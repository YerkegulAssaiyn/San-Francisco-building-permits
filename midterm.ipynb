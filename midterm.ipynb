{
 "cells": [
  {
   "cell_type": "markdown",
   "id": "fb42571a",
   "metadata": {},
   "source": [
    "<img src=\"https://astanait.edu.kz/wp-content/uploads/2020/05/aitu-logo-2-600x315.png\" width=\"300\" height=\"222\" >\n",
    "<br>\n",
    "<p style=\"text-align: center;  font-size: 16px;\"> Faculty of Information Technology </p>\n",
    "<p style=\"text-align: center;  font-size: 16px;\"> Big Data Analysis </p>\n",
    "    \n",
    "<br> \n",
    "\n",
    "<h3 style=\"text-align: center\"> Data Science Programming 2 (Python) </h3>\n",
    "<h3 style=\"text-align: center\"> Midterm Project: San Francisco Building Permits </h3> \n",
    "\n",
    "<br>\n",
    "\n",
    "<h4 style=\"text-align: right\">Prepared by:</h4>\n",
    "<p style=\"text-align: right; font-size: 12px; margin-right: 49px;\">Assylnur Lesken,</p>   \n",
    "<p style=\"text-align: right; font-size: 12px; margin-right: 49px;\">Yerkegul Assaiyn</p>\n",
    "\n",
    "<h4 style=\"text-align: right\">Instructor:</h4><p style=\"text-align: right; font-size: 12px; margin-right: 49px;\">  Kaisar Mussalim</p>\n",
    "\n",
    "<br>\n",
    "<br>\n",
    "\n",
    "<p style=\"text-align: center; font-size: 16px; margin-right: 49px;\">Nur-Sultan, 2022</h3>\n",
    "<br>\n",
    "<br>\n",
    "<br>"
   ]
  },
  {
   "cell_type": "code",
   "execution_count": 1,
   "id": "3970e4fc",
   "metadata": {},
   "outputs": [],
   "source": [
    "#Import libraries\n",
    "import pandas as pd\n",
    "import numpy as np\n",
    "from matplotlib import pyplot as plt\n",
    "%matplotlib inline\n",
    "import seaborn as sns\n",
    "import datetime\n",
    "\n",
    "from sklearn.model_selection import train_test_split\n",
    "from sklearn.linear_model import LinearRegression\n",
    "from sklearn import metrics\n",
    "from sklearn.preprocessing import  StandardScaler\n",
    "from sklearn.metrics import mean_squared_error,r2_score\n",
    "import operator\n",
    "\n",
    "from sklearn.feature_selection import RFE\n",
    "from sklearn.model_selection import GridSearchCV\n",
    "from sklearn.linear_model import Ridge, RidgeCV, Lasso, LassoCV\n",
    "from sklearn.model_selection import KFold, cross_val_score, GridSearchCV\n",
    "from statistics import mode\n",
    "\n",
    "from sklearn.neighbors import KNeighborsRegressor\n",
    "from sklearn.ensemble import RandomForestRegressor\n",
    "from sklearn.preprocessing import scale "
   ]
  },
  {
   "cell_type": "markdown",
   "id": "71a31b0a",
   "metadata": {},
   "source": [
    "# Introduction"
   ]
  },
  {
   "cell_type": "markdown",
   "id": "90ab8153",
   "metadata": {},
   "source": [
    "Since 2012 the average US home price has increased 93% (Zillow, 2021) significantly outpacing both inflation and wage growth and resulting in millions of Americans being priced out of the market. While much of this increase is driven by macroeconomic conditions such as a shortage of construction labor and increased materials costs, they are also impacted by increased government regulation. An increase in regulation can serve as a deterrent to construction and significantly lengthen the permitting process by increasing the amount of paperwork and inspections required to build."
   ]
  },
  {
   "cell_type": "markdown",
   "id": "d3da2aa6",
   "metadata": {},
   "source": [
    " In this analysis we will examine the permitting process in San Francisco, construct a model to predict the length of time it takes to receive a permit (Approval Date – Submission Date) and identify the key variables impacting the permitting timeline."
   ]
  },
  {
   "cell_type": "markdown",
   "id": "4a64242e",
   "metadata": {},
   "source": [
    "**About Data Set**"
   ]
  },
  {
   "cell_type": "markdown",
   "id": "c0d3b8c6",
   "metadata": {},
   "source": [
    "This data set pertains to all types of structural permits from Jan 1, 2013-Feb 25th 2018. Data includes details on application/permit numbers, job addresses, supervisorial districts, and the current status of the applications. Data is uploaded weekly by DBI."
   ]
  },
  {
   "cell_type": "markdown",
   "id": "c253f203",
   "metadata": {},
   "source": [
    "# Data Preparation "
   ]
  },
  {
   "cell_type": "code",
   "execution_count": 2,
   "id": "a6d6ca5e",
   "metadata": {},
   "outputs": [
    {
     "name": "stderr",
     "output_type": "stream",
     "text": [
      "/opt/anaconda3/lib/python3.8/site-packages/IPython/core/interactiveshell.py:3165: DtypeWarning: Columns (22,32) have mixed types.Specify dtype option on import or set low_memory=False.\n",
      "  has_raised = await self.run_ast_nodes(code_ast.body, cell_name,\n"
     ]
    }
   ],
   "source": [
    "df = pd.read_csv('Building_Permits.csv',index_col=0)"
   ]
  },
  {
   "cell_type": "code",
   "execution_count": 3,
   "id": "21441392",
   "metadata": {},
   "outputs": [
    {
     "data": {
      "text/html": [
       "<div>\n",
       "<style scoped>\n",
       "    .dataframe tbody tr th:only-of-type {\n",
       "        vertical-align: middle;\n",
       "    }\n",
       "\n",
       "    .dataframe tbody tr th {\n",
       "        vertical-align: top;\n",
       "    }\n",
       "\n",
       "    .dataframe thead th {\n",
       "        text-align: right;\n",
       "    }\n",
       "</style>\n",
       "<table border=\"1\" class=\"dataframe\">\n",
       "  <thead>\n",
       "    <tr style=\"text-align: right;\">\n",
       "      <th></th>\n",
       "      <th>Permit Type</th>\n",
       "      <th>Permit Type Definition</th>\n",
       "      <th>Permit Creation Date</th>\n",
       "      <th>Block</th>\n",
       "      <th>Lot</th>\n",
       "      <th>Street Number</th>\n",
       "      <th>Street Number Suffix</th>\n",
       "      <th>Street Name</th>\n",
       "      <th>Street Suffix</th>\n",
       "      <th>Unit</th>\n",
       "      <th>...</th>\n",
       "      <th>Existing Construction Type</th>\n",
       "      <th>Existing Construction Type Description</th>\n",
       "      <th>Proposed Construction Type</th>\n",
       "      <th>Proposed Construction Type Description</th>\n",
       "      <th>Site Permit</th>\n",
       "      <th>Supervisor District</th>\n",
       "      <th>Neighborhoods - Analysis Boundaries</th>\n",
       "      <th>Zipcode</th>\n",
       "      <th>Location</th>\n",
       "      <th>Record ID</th>\n",
       "    </tr>\n",
       "    <tr>\n",
       "      <th>Permit Number</th>\n",
       "      <th></th>\n",
       "      <th></th>\n",
       "      <th></th>\n",
       "      <th></th>\n",
       "      <th></th>\n",
       "      <th></th>\n",
       "      <th></th>\n",
       "      <th></th>\n",
       "      <th></th>\n",
       "      <th></th>\n",
       "      <th></th>\n",
       "      <th></th>\n",
       "      <th></th>\n",
       "      <th></th>\n",
       "      <th></th>\n",
       "      <th></th>\n",
       "      <th></th>\n",
       "      <th></th>\n",
       "      <th></th>\n",
       "      <th></th>\n",
       "      <th></th>\n",
       "    </tr>\n",
       "  </thead>\n",
       "  <tbody>\n",
       "    <tr>\n",
       "      <th>201505065519</th>\n",
       "      <td>4</td>\n",
       "      <td>sign - erect</td>\n",
       "      <td>05/06/2015</td>\n",
       "      <td>0326</td>\n",
       "      <td>023</td>\n",
       "      <td>140</td>\n",
       "      <td>NaN</td>\n",
       "      <td>Ellis</td>\n",
       "      <td>St</td>\n",
       "      <td>NaN</td>\n",
       "      <td>...</td>\n",
       "      <td>3.0</td>\n",
       "      <td>constr type 3</td>\n",
       "      <td>NaN</td>\n",
       "      <td>NaN</td>\n",
       "      <td>NaN</td>\n",
       "      <td>3.0</td>\n",
       "      <td>Tenderloin</td>\n",
       "      <td>94102.0</td>\n",
       "      <td>(37.785719256680785, -122.40852313194863)</td>\n",
       "      <td>1380611233945</td>\n",
       "    </tr>\n",
       "    <tr>\n",
       "      <th>201604195146</th>\n",
       "      <td>4</td>\n",
       "      <td>sign - erect</td>\n",
       "      <td>04/19/2016</td>\n",
       "      <td>0306</td>\n",
       "      <td>007</td>\n",
       "      <td>440</td>\n",
       "      <td>NaN</td>\n",
       "      <td>Geary</td>\n",
       "      <td>St</td>\n",
       "      <td>0.0</td>\n",
       "      <td>...</td>\n",
       "      <td>3.0</td>\n",
       "      <td>constr type 3</td>\n",
       "      <td>NaN</td>\n",
       "      <td>NaN</td>\n",
       "      <td>NaN</td>\n",
       "      <td>3.0</td>\n",
       "      <td>Tenderloin</td>\n",
       "      <td>94102.0</td>\n",
       "      <td>(37.78733980600732, -122.41063199757738)</td>\n",
       "      <td>1420164406718</td>\n",
       "    </tr>\n",
       "    <tr>\n",
       "      <th>201605278609</th>\n",
       "      <td>3</td>\n",
       "      <td>additions alterations or repairs</td>\n",
       "      <td>05/27/2016</td>\n",
       "      <td>0595</td>\n",
       "      <td>203</td>\n",
       "      <td>1647</td>\n",
       "      <td>NaN</td>\n",
       "      <td>Pacific</td>\n",
       "      <td>Av</td>\n",
       "      <td>NaN</td>\n",
       "      <td>...</td>\n",
       "      <td>1.0</td>\n",
       "      <td>constr type 1</td>\n",
       "      <td>1.0</td>\n",
       "      <td>constr type 1</td>\n",
       "      <td>NaN</td>\n",
       "      <td>3.0</td>\n",
       "      <td>Russian Hill</td>\n",
       "      <td>94109.0</td>\n",
       "      <td>(37.7946573324287, -122.42232562979227)</td>\n",
       "      <td>1424856504716</td>\n",
       "    </tr>\n",
       "    <tr>\n",
       "      <th>201611072166</th>\n",
       "      <td>8</td>\n",
       "      <td>otc alterations permit</td>\n",
       "      <td>11/07/2016</td>\n",
       "      <td>0156</td>\n",
       "      <td>011</td>\n",
       "      <td>1230</td>\n",
       "      <td>NaN</td>\n",
       "      <td>Pacific</td>\n",
       "      <td>Av</td>\n",
       "      <td>0.0</td>\n",
       "      <td>...</td>\n",
       "      <td>5.0</td>\n",
       "      <td>wood frame (5)</td>\n",
       "      <td>5.0</td>\n",
       "      <td>wood frame (5)</td>\n",
       "      <td>NaN</td>\n",
       "      <td>3.0</td>\n",
       "      <td>Nob Hill</td>\n",
       "      <td>94109.0</td>\n",
       "      <td>(37.79595867909168, -122.41557405519474)</td>\n",
       "      <td>1443574295566</td>\n",
       "    </tr>\n",
       "    <tr>\n",
       "      <th>201611283529</th>\n",
       "      <td>6</td>\n",
       "      <td>demolitions</td>\n",
       "      <td>11/28/2016</td>\n",
       "      <td>0342</td>\n",
       "      <td>001</td>\n",
       "      <td>950</td>\n",
       "      <td>NaN</td>\n",
       "      <td>Market</td>\n",
       "      <td>St</td>\n",
       "      <td>NaN</td>\n",
       "      <td>...</td>\n",
       "      <td>3.0</td>\n",
       "      <td>constr type 3</td>\n",
       "      <td>NaN</td>\n",
       "      <td>NaN</td>\n",
       "      <td>NaN</td>\n",
       "      <td>6.0</td>\n",
       "      <td>Tenderloin</td>\n",
       "      <td>94102.0</td>\n",
       "      <td>(37.78315261897309, -122.40950883997789)</td>\n",
       "      <td>144548169992</td>\n",
       "    </tr>\n",
       "  </tbody>\n",
       "</table>\n",
       "<p>5 rows × 42 columns</p>\n",
       "</div>"
      ],
      "text/plain": [
       "               Permit Type            Permit Type Definition  \\\n",
       "Permit Number                                                  \n",
       "201505065519             4                      sign - erect   \n",
       "201604195146             4                      sign - erect   \n",
       "201605278609             3  additions alterations or repairs   \n",
       "201611072166             8            otc alterations permit   \n",
       "201611283529             6                       demolitions   \n",
       "\n",
       "              Permit Creation Date Block  Lot  Street Number  \\\n",
       "Permit Number                                                  \n",
       "201505065519            05/06/2015  0326  023            140   \n",
       "201604195146            04/19/2016  0306  007            440   \n",
       "201605278609            05/27/2016  0595  203           1647   \n",
       "201611072166            11/07/2016  0156  011           1230   \n",
       "201611283529            11/28/2016  0342  001            950   \n",
       "\n",
       "              Street Number Suffix Street Name Street Suffix  Unit  ...  \\\n",
       "Permit Number                                                       ...   \n",
       "201505065519                   NaN       Ellis            St   NaN  ...   \n",
       "201604195146                   NaN       Geary            St   0.0  ...   \n",
       "201605278609                   NaN     Pacific            Av   NaN  ...   \n",
       "201611072166                   NaN     Pacific            Av   0.0  ...   \n",
       "201611283529                   NaN      Market            St   NaN  ...   \n",
       "\n",
       "              Existing Construction Type  \\\n",
       "Permit Number                              \n",
       "201505065519                         3.0   \n",
       "201604195146                         3.0   \n",
       "201605278609                         1.0   \n",
       "201611072166                         5.0   \n",
       "201611283529                         3.0   \n",
       "\n",
       "              Existing Construction Type Description  \\\n",
       "Permit Number                                          \n",
       "201505065519                           constr type 3   \n",
       "201604195146                           constr type 3   \n",
       "201605278609                           constr type 1   \n",
       "201611072166                          wood frame (5)   \n",
       "201611283529                           constr type 3   \n",
       "\n",
       "              Proposed Construction Type  \\\n",
       "Permit Number                              \n",
       "201505065519                         NaN   \n",
       "201604195146                         NaN   \n",
       "201605278609                         1.0   \n",
       "201611072166                         5.0   \n",
       "201611283529                         NaN   \n",
       "\n",
       "              Proposed Construction Type Description Site Permit  \\\n",
       "Permit Number                                                      \n",
       "201505065519                                     NaN         NaN   \n",
       "201604195146                                     NaN         NaN   \n",
       "201605278609                           constr type 1         NaN   \n",
       "201611072166                          wood frame (5)         NaN   \n",
       "201611283529                                     NaN         NaN   \n",
       "\n",
       "              Supervisor District Neighborhoods - Analysis Boundaries  \\\n",
       "Permit Number                                                           \n",
       "201505065519                  3.0                          Tenderloin   \n",
       "201604195146                  3.0                          Tenderloin   \n",
       "201605278609                  3.0                        Russian Hill   \n",
       "201611072166                  3.0                            Nob Hill   \n",
       "201611283529                  6.0                          Tenderloin   \n",
       "\n",
       "               Zipcode                                   Location  \\\n",
       "Permit Number                                                       \n",
       "201505065519   94102.0  (37.785719256680785, -122.40852313194863)   \n",
       "201604195146   94102.0   (37.78733980600732, -122.41063199757738)   \n",
       "201605278609   94109.0    (37.7946573324287, -122.42232562979227)   \n",
       "201611072166   94109.0   (37.79595867909168, -122.41557405519474)   \n",
       "201611283529   94102.0   (37.78315261897309, -122.40950883997789)   \n",
       "\n",
       "                   Record ID  \n",
       "Permit Number                 \n",
       "201505065519   1380611233945  \n",
       "201604195146   1420164406718  \n",
       "201605278609   1424856504716  \n",
       "201611072166   1443574295566  \n",
       "201611283529    144548169992  \n",
       "\n",
       "[5 rows x 42 columns]"
      ]
     },
     "execution_count": 3,
     "metadata": {},
     "output_type": "execute_result"
    }
   ],
   "source": [
    "df.head()"
   ]
  },
  {
   "cell_type": "code",
   "execution_count": 4,
   "id": "ff6c0bea",
   "metadata": {},
   "outputs": [
    {
     "data": {
      "text/plain": [
       "(198900, 42)"
      ]
     },
     "execution_count": 4,
     "metadata": {},
     "output_type": "execute_result"
    }
   ],
   "source": [
    "df.shape"
   ]
  },
  {
   "cell_type": "markdown",
   "id": "57c75dc7",
   "metadata": {},
   "source": [
    "There are 42 columns and close to 200k records in the downloaded version"
   ]
  },
  {
   "cell_type": "code",
   "execution_count": 5,
   "id": "5efc92fb",
   "metadata": {
    "scrolled": false
   },
   "outputs": [
    {
     "name": "stdout",
     "output_type": "stream",
     "text": [
      "<class 'pandas.core.frame.DataFrame'>\n",
      "Index: 198900 entries, 201505065519 to M864287\n",
      "Data columns (total 42 columns):\n",
      " #   Column                                  Non-Null Count   Dtype  \n",
      "---  ------                                  --------------   -----  \n",
      " 0   Permit Type                             198900 non-null  int64  \n",
      " 1   Permit Type Definition                  198900 non-null  object \n",
      " 2   Permit Creation Date                    198900 non-null  object \n",
      " 3   Block                                   198900 non-null  object \n",
      " 4   Lot                                     198900 non-null  object \n",
      " 5   Street Number                           198900 non-null  int64  \n",
      " 6   Street Number Suffix                    2216 non-null    object \n",
      " 7   Street Name                             198900 non-null  object \n",
      " 8   Street Suffix                           196132 non-null  object \n",
      " 9   Unit                                    29479 non-null   float64\n",
      " 10  Unit Suffix                             1961 non-null    object \n",
      " 11  Description                             198610 non-null  object \n",
      " 12  Current Status                          198900 non-null  object \n",
      " 13  Current Status Date                     198900 non-null  object \n",
      " 14  Filed Date                              198900 non-null  object \n",
      " 15  Issued Date                             183960 non-null  object \n",
      " 16  Completed Date                          97191 non-null   object \n",
      " 17  First Construction Document Date        183954 non-null  object \n",
      " 18  Structural Notification                 6922 non-null    object \n",
      " 19  Number of Existing Stories              156116 non-null  float64\n",
      " 20  Number of Proposed Stories              156032 non-null  float64\n",
      " 21  Voluntary Soft-Story Retrofit           35 non-null      object \n",
      " 22  Fire Only Permit                        18827 non-null   object \n",
      " 23  Permit Expiration Date                  147020 non-null  object \n",
      " 24  Estimated Cost                          160834 non-null  float64\n",
      " 25  Revised Cost                            192834 non-null  float64\n",
      " 26  Existing Use                            157786 non-null  object \n",
      " 27  Existing Units                          147362 non-null  float64\n",
      " 28  Proposed Use                            156461 non-null  object \n",
      " 29  Proposed Units                          147989 non-null  float64\n",
      " 30  Plansets                                161591 non-null  float64\n",
      " 31  TIDF Compliance                         2 non-null       object \n",
      " 32  Existing Construction Type              155534 non-null  float64\n",
      " 33  Existing Construction Type Description  155534 non-null  object \n",
      " 34  Proposed Construction Type              155738 non-null  float64\n",
      " 35  Proposed Construction Type Description  155738 non-null  object \n",
      " 36  Site Permit                             5359 non-null    object \n",
      " 37  Supervisor District                     197183 non-null  float64\n",
      " 38  Neighborhoods - Analysis Boundaries     197175 non-null  object \n",
      " 39  Zipcode                                 197184 non-null  float64\n",
      " 40  Location                                197200 non-null  object \n",
      " 41  Record ID                               198900 non-null  int64  \n",
      "dtypes: float64(12), int64(3), object(27)\n",
      "memory usage: 65.3+ MB\n"
     ]
    }
   ],
   "source": [
    "df.info()"
   ]
  },
  {
   "cell_type": "markdown",
   "id": "a83f452a",
   "metadata": {},
   "source": [
    "**Permit Number** -\tNumber assigned while filing\n",
    "\n",
    "**Permit Type** - Type of the permit represented numerically.\n",
    "\n",
    "**Permit Type Definition** - \"Description of the Permit type, for example new construction, alterations\"\n",
    "\n",
    "**Permit Creation Date** - \"Date on which permit created, later than or same as filing date\"\n",
    "\n",
    "**Block** - Related to address\n",
    "\n",
    "**Lot** - Related to address\n",
    "\n",
    "**Street Number** - Related to address\n",
    "\n",
    "**Street Number Suffix** - Related to address\n",
    "\n",
    "**Street Name** - Related to address\n",
    "\n",
    "**Street Name Suffix** - Related to address\n",
    "\n",
    "**Unit** - Unit of a building\n",
    "\n",
    "**Unit suffix** - Suffix if any, for the unit\n",
    "\n",
    "**Description** - \"Details about purpose of the permit. Example: reroofing, bathroom renovation\"\n",
    "\n",
    "**Current Status** - Current status of the permit application. \n",
    "\n",
    "**Current Status Date** - Date at which current status was entered\n",
    "\n",
    "**Filed Date** - Filed date for the permit\n",
    "\n",
    "**Issued Date** - Issued date for the permit\n",
    "\n",
    "**Completed Date** - \"The date on which project was completed, applicable if Current Status = completed”\"\n",
    "\n",
    "**First Construction Document Date** - Date on which construction was documented\n",
    "\n",
    "**Structural Notification** - Notification to meet some legal need, given or not\n",
    "\n",
    "**Number of Existing Stories** - \"Number of existing stories in the building. Not applicable for certain permit types\"\n",
    "\n",
    "**Number of Proposed Stories** - Number of proposed stories for the construction/alteration \"Voluntary Soft-Story Retrofit\"\tSoft story to meet earth quake regulations\n",
    "\n",
    "**Fire Only Permit** - Fire hazard prevention related permit\n",
    "\n",
    "**Permit Expiration Date** - Expiration date related to issued permit.\n",
    "\n",
    "**Estimated Cost** - Initial estimation of the cost of the project\n",
    "\n",
    "**Revised Cost** - Revised estimation of the cost of the project\n",
    "\n",
    "**Existing Use** - Existing use of the building\n",
    "\n",
    "**Existing Units** - Existing number of units\n",
    "\n",
    "**Proposed Use** - Proposed use of the building\n",
    "\n",
    "**Proposed Units** - Proposed number of units\n",
    "\n",
    "**Plansets** - \"Plan representation indicating the general design intent of the foundation..\"\n",
    "\n",
    "**TIDF Compliance** - TIDF compliant or not, this is a new legal requirement\n",
    "\n",
    "**Existing Construction Type** - \"Construction type, existing,as categories represented numerically\"\n",
    "\n",
    "**Existing Construction Type Description** - \"Description of the above, for example, wood or other construction types\"\n",
    "\n",
    "**Proposed Construction Type** - \"Construction type, proposed, as categories  represented numerically\"\n",
    "\n",
    "**Proposed Construction Type Description** - Description of the above \n",
    "\n",
    "**Site Permit** - Permit for site\n",
    "\n",
    "**Supervisor District** - Supervisor District to which the building location belongs to\n",
    "\n",
    "**Neighborhoods - Analysis Boundaries** - Neighborhood to which the building location belongs to\n",
    "\n",
    "**Zipcode** - Zipcode of building address\n",
    "\n",
    "**Location** - Location in latitude, longitude pair.\n",
    "\n",
    "**Record ID** -\tSome ID, not useful for this\n"
   ]
  },
  {
   "cell_type": "code",
   "execution_count": 6,
   "id": "fac57da4",
   "metadata": {
    "scrolled": false
   },
   "outputs": [
    {
     "data": {
      "text/plain": [
       "Permit Type                                    0\n",
       "Permit Type Definition                         0\n",
       "Permit Creation Date                           0\n",
       "Block                                          0\n",
       "Lot                                            0\n",
       "Street Number                                  0\n",
       "Street Number Suffix                      196684\n",
       "Street Name                                    0\n",
       "Street Suffix                               2768\n",
       "Unit                                      169421\n",
       "Unit Suffix                               196939\n",
       "Description                                  290\n",
       "Current Status                                 0\n",
       "Current Status Date                            0\n",
       "Filed Date                                     0\n",
       "Issued Date                                14940\n",
       "Completed Date                            101709\n",
       "First Construction Document Date           14946\n",
       "Structural Notification                   191978\n",
       "Number of Existing Stories                 42784\n",
       "Number of Proposed Stories                 42868\n",
       "Voluntary Soft-Story Retrofit             198865\n",
       "Fire Only Permit                          180073\n",
       "Permit Expiration Date                     51880\n",
       "Estimated Cost                             38066\n",
       "Revised Cost                                6066\n",
       "Existing Use                               41114\n",
       "Existing Units                             51538\n",
       "Proposed Use                               42439\n",
       "Proposed Units                             50911\n",
       "Plansets                                   37309\n",
       "TIDF Compliance                           198898\n",
       "Existing Construction Type                 43366\n",
       "Existing Construction Type Description     43366\n",
       "Proposed Construction Type                 43162\n",
       "Proposed Construction Type Description     43162\n",
       "Site Permit                               193541\n",
       "Supervisor District                         1717\n",
       "Neighborhoods - Analysis Boundaries         1725\n",
       "Zipcode                                     1716\n",
       "Location                                    1700\n",
       "Record ID                                      0\n",
       "dtype: int64"
      ]
     },
     "execution_count": 6,
     "metadata": {},
     "output_type": "execute_result"
    }
   ],
   "source": [
    "df.isnull().sum()"
   ]
  },
  {
   "cell_type": "markdown",
   "id": "b1f42b4c",
   "metadata": {},
   "source": [
    "It looks like there's several columns have missing values cause they provide no value to the data but rather make it messy.\n"
   ]
  },
  {
   "cell_type": "markdown",
   "id": "3fad9055",
   "metadata": {},
   "source": [
    "## Data cleaning\n"
   ]
  },
  {
   "cell_type": "markdown",
   "id": "64b0c016",
   "metadata": {},
   "source": [
    "For dealing with missing values, we need to figure out why the value is missing. So we need to understand is this value missing because it wasn't recorded or because it doesn't exist."
   ]
  },
  {
   "cell_type": "code",
   "execution_count": 7,
   "id": "32f722ab",
   "metadata": {},
   "outputs": [
    {
     "data": {
      "text/html": [
       "<div>\n",
       "<style scoped>\n",
       "    .dataframe tbody tr th:only-of-type {\n",
       "        vertical-align: middle;\n",
       "    }\n",
       "\n",
       "    .dataframe tbody tr th {\n",
       "        vertical-align: top;\n",
       "    }\n",
       "\n",
       "    .dataframe thead th {\n",
       "        text-align: right;\n",
       "    }\n",
       "</style>\n",
       "<table border=\"1\" class=\"dataframe\">\n",
       "  <thead>\n",
       "    <tr style=\"text-align: right;\">\n",
       "      <th></th>\n",
       "      <th>Street Number Suffix</th>\n",
       "      <th>Zipcode</th>\n",
       "      <th>Unit</th>\n",
       "      <th>Unit Suffix</th>\n",
       "      <th>Structural Notification</th>\n",
       "      <th>Voluntary Soft-Story Retrofit</th>\n",
       "      <th>Fire Only Permit</th>\n",
       "      <th>TIDF Compliance</th>\n",
       "      <th>Site Permit</th>\n",
       "    </tr>\n",
       "    <tr>\n",
       "      <th>Permit Number</th>\n",
       "      <th></th>\n",
       "      <th></th>\n",
       "      <th></th>\n",
       "      <th></th>\n",
       "      <th></th>\n",
       "      <th></th>\n",
       "      <th></th>\n",
       "      <th></th>\n",
       "      <th></th>\n",
       "    </tr>\n",
       "  </thead>\n",
       "  <tbody>\n",
       "    <tr>\n",
       "      <th>201505065519</th>\n",
       "      <td>NaN</td>\n",
       "      <td>94102.0</td>\n",
       "      <td>NaN</td>\n",
       "      <td>NaN</td>\n",
       "      <td>NaN</td>\n",
       "      <td>NaN</td>\n",
       "      <td>NaN</td>\n",
       "      <td>NaN</td>\n",
       "      <td>NaN</td>\n",
       "    </tr>\n",
       "    <tr>\n",
       "      <th>201604195146</th>\n",
       "      <td>NaN</td>\n",
       "      <td>94102.0</td>\n",
       "      <td>0.0</td>\n",
       "      <td>NaN</td>\n",
       "      <td>NaN</td>\n",
       "      <td>NaN</td>\n",
       "      <td>NaN</td>\n",
       "      <td>NaN</td>\n",
       "      <td>NaN</td>\n",
       "    </tr>\n",
       "    <tr>\n",
       "      <th>201605278609</th>\n",
       "      <td>NaN</td>\n",
       "      <td>94109.0</td>\n",
       "      <td>NaN</td>\n",
       "      <td>NaN</td>\n",
       "      <td>NaN</td>\n",
       "      <td>NaN</td>\n",
       "      <td>NaN</td>\n",
       "      <td>NaN</td>\n",
       "      <td>NaN</td>\n",
       "    </tr>\n",
       "    <tr>\n",
       "      <th>201611072166</th>\n",
       "      <td>NaN</td>\n",
       "      <td>94109.0</td>\n",
       "      <td>0.0</td>\n",
       "      <td>NaN</td>\n",
       "      <td>NaN</td>\n",
       "      <td>NaN</td>\n",
       "      <td>NaN</td>\n",
       "      <td>NaN</td>\n",
       "      <td>NaN</td>\n",
       "    </tr>\n",
       "    <tr>\n",
       "      <th>201611283529</th>\n",
       "      <td>NaN</td>\n",
       "      <td>94102.0</td>\n",
       "      <td>NaN</td>\n",
       "      <td>NaN</td>\n",
       "      <td>NaN</td>\n",
       "      <td>NaN</td>\n",
       "      <td>NaN</td>\n",
       "      <td>NaN</td>\n",
       "      <td>NaN</td>\n",
       "    </tr>\n",
       "    <tr>\n",
       "      <th>...</th>\n",
       "      <td>...</td>\n",
       "      <td>...</td>\n",
       "      <td>...</td>\n",
       "      <td>...</td>\n",
       "      <td>...</td>\n",
       "      <td>...</td>\n",
       "      <td>...</td>\n",
       "      <td>...</td>\n",
       "      <td>...</td>\n",
       "    </tr>\n",
       "    <tr>\n",
       "      <th>M862628</th>\n",
       "      <td>NaN</td>\n",
       "      <td>NaN</td>\n",
       "      <td>NaN</td>\n",
       "      <td>NaN</td>\n",
       "      <td>NaN</td>\n",
       "      <td>NaN</td>\n",
       "      <td>NaN</td>\n",
       "      <td>NaN</td>\n",
       "      <td>NaN</td>\n",
       "    </tr>\n",
       "    <tr>\n",
       "      <th>201712055595</th>\n",
       "      <td>NaN</td>\n",
       "      <td>NaN</td>\n",
       "      <td>NaN</td>\n",
       "      <td>NaN</td>\n",
       "      <td>NaN</td>\n",
       "      <td>NaN</td>\n",
       "      <td>Y</td>\n",
       "      <td>NaN</td>\n",
       "      <td>NaN</td>\n",
       "    </tr>\n",
       "    <tr>\n",
       "      <th>M863507</th>\n",
       "      <td>NaN</td>\n",
       "      <td>NaN</td>\n",
       "      <td>NaN</td>\n",
       "      <td>NaN</td>\n",
       "      <td>NaN</td>\n",
       "      <td>NaN</td>\n",
       "      <td>NaN</td>\n",
       "      <td>NaN</td>\n",
       "      <td>NaN</td>\n",
       "    </tr>\n",
       "    <tr>\n",
       "      <th>M863747</th>\n",
       "      <td>NaN</td>\n",
       "      <td>NaN</td>\n",
       "      <td>NaN</td>\n",
       "      <td>NaN</td>\n",
       "      <td>NaN</td>\n",
       "      <td>NaN</td>\n",
       "      <td>NaN</td>\n",
       "      <td>NaN</td>\n",
       "      <td>NaN</td>\n",
       "    </tr>\n",
       "    <tr>\n",
       "      <th>M864287</th>\n",
       "      <td>NaN</td>\n",
       "      <td>NaN</td>\n",
       "      <td>NaN</td>\n",
       "      <td>NaN</td>\n",
       "      <td>NaN</td>\n",
       "      <td>NaN</td>\n",
       "      <td>NaN</td>\n",
       "      <td>NaN</td>\n",
       "      <td>NaN</td>\n",
       "    </tr>\n",
       "  </tbody>\n",
       "</table>\n",
       "<p>198900 rows × 9 columns</p>\n",
       "</div>"
      ],
      "text/plain": [
       "              Street Number Suffix  Zipcode  Unit Unit Suffix  \\\n",
       "Permit Number                                                   \n",
       "201505065519                   NaN  94102.0   NaN         NaN   \n",
       "201604195146                   NaN  94102.0   0.0         NaN   \n",
       "201605278609                   NaN  94109.0   NaN         NaN   \n",
       "201611072166                   NaN  94109.0   0.0         NaN   \n",
       "201611283529                   NaN  94102.0   NaN         NaN   \n",
       "...                            ...      ...   ...         ...   \n",
       "M862628                        NaN      NaN   NaN         NaN   \n",
       "201712055595                   NaN      NaN   NaN         NaN   \n",
       "M863507                        NaN      NaN   NaN         NaN   \n",
       "M863747                        NaN      NaN   NaN         NaN   \n",
       "M864287                        NaN      NaN   NaN         NaN   \n",
       "\n",
       "              Structural Notification Voluntary Soft-Story Retrofit  \\\n",
       "Permit Number                                                         \n",
       "201505065519                      NaN                           NaN   \n",
       "201604195146                      NaN                           NaN   \n",
       "201605278609                      NaN                           NaN   \n",
       "201611072166                      NaN                           NaN   \n",
       "201611283529                      NaN                           NaN   \n",
       "...                               ...                           ...   \n",
       "M862628                           NaN                           NaN   \n",
       "201712055595                      NaN                           NaN   \n",
       "M863507                           NaN                           NaN   \n",
       "M863747                           NaN                           NaN   \n",
       "M864287                           NaN                           NaN   \n",
       "\n",
       "              Fire Only Permit TIDF Compliance Site Permit  \n",
       "Permit Number                                               \n",
       "201505065519               NaN             NaN         NaN  \n",
       "201604195146               NaN             NaN         NaN  \n",
       "201605278609               NaN             NaN         NaN  \n",
       "201611072166               NaN             NaN         NaN  \n",
       "201611283529               NaN             NaN         NaN  \n",
       "...                        ...             ...         ...  \n",
       "M862628                    NaN             NaN         NaN  \n",
       "201712055595                 Y             NaN         NaN  \n",
       "M863507                    NaN             NaN         NaN  \n",
       "M863747                    NaN             NaN         NaN  \n",
       "M864287                    NaN             NaN         NaN  \n",
       "\n",
       "[198900 rows x 9 columns]"
      ]
     },
     "execution_count": 7,
     "metadata": {},
     "output_type": "execute_result"
    }
   ],
   "source": [
    "df[['Street Number Suffix', 'Zipcode', 'Unit', 'Unit Suffix', 'Structural Notification', 'Voluntary Soft-Story Retrofit', 'Fire Only Permit', 'TIDF Compliance', 'Site Permit']]"
   ]
  },
  {
   "cell_type": "markdown",
   "id": "d895f06a",
   "metadata": {},
   "source": [
    "From this we can see that a lot of values in the \"Street Number Suffix\" column is missing and values in the \"Zipcode\" column is missing but there is not so much as in the \"Street Number Suffix\". So we take it likely because it does not exist and a value in the \"Zipcode\" column cause it was not recorded."
   ]
  },
  {
   "cell_type": "code",
   "execution_count": 8,
   "id": "1bf609f0",
   "metadata": {},
   "outputs": [
    {
     "data": {
      "text/plain": [
       "['Street Number Suffix',\n",
       " 'Unit',\n",
       " 'Unit Suffix',\n",
       " 'Structural Notification',\n",
       " 'Voluntary Soft-Story Retrofit',\n",
       " 'Fire Only Permit',\n",
       " 'TIDF Compliance',\n",
       " 'Site Permit']"
      ]
     },
     "execution_count": 8,
     "metadata": {},
     "output_type": "execute_result"
    }
   ],
   "source": [
    "missing_values = df.isnull().sum()/len(df)\n",
    "[missing_values.index[i] for i in range(len(missing_values)) if missing_values[i]>0.80]"
   ]
  },
  {
   "cell_type": "code",
   "execution_count": 9,
   "id": "361d5485",
   "metadata": {},
   "outputs": [],
   "source": [
    "df.drop(columns=['Street Number Suffix',\n",
    " 'Unit',\n",
    " 'Unit Suffix',\n",
    " 'Structural Notification',\n",
    " 'Voluntary Soft-Story Retrofit',\n",
    " 'Fire Only Permit',\n",
    " 'TIDF Compliance',\n",
    " 'Site Permit'],inplace=True)"
   ]
  },
  {
   "cell_type": "markdown",
   "id": "bf5fc404",
   "metadata": {},
   "source": [
    "We need to search columns that could be colinear to other columns. Then we will drop them because they can  lead to overfitting."
   ]
  },
  {
   "cell_type": "code",
   "execution_count": 10,
   "id": "d98a2cbc",
   "metadata": {},
   "outputs": [],
   "source": [
    "def unique_vals(df):\n",
    "    res = pd.DataFrame()\n",
    "    cols = []\n",
    "    nunique = []\n",
    "    unique = []\n",
    "    datatype = []\n",
    "    for column in df:\n",
    "        cols.append(column)\n",
    "        nunique.append(df[column].nunique() )\n",
    "        unique.append( df[column].unique() )\n",
    "        datatype.append(df[column].dtype)\n",
    "        \n",
    "    \n",
    "    res['col_name'] = cols\n",
    "    res['number of unique values'] = nunique\n",
    "    res['unique values'] = unique\n",
    "    res['dtype'] = datatype\n",
    "\n",
    "    return res.sort_values('number of unique values')"
   ]
  },
  {
   "cell_type": "code",
   "execution_count": 11,
   "id": "e2f9f2f4",
   "metadata": {
    "scrolled": true
   },
   "outputs": [
    {
     "data": {
      "text/html": [
       "<div>\n",
       "<style scoped>\n",
       "    .dataframe tbody tr th:only-of-type {\n",
       "        vertical-align: middle;\n",
       "    }\n",
       "\n",
       "    .dataframe tbody tr th {\n",
       "        vertical-align: top;\n",
       "    }\n",
       "\n",
       "    .dataframe thead th {\n",
       "        text-align: right;\n",
       "    }\n",
       "</style>\n",
       "<table border=\"1\" class=\"dataframe\">\n",
       "  <thead>\n",
       "    <tr style=\"text-align: right;\">\n",
       "      <th></th>\n",
       "      <th>col_name</th>\n",
       "      <th>number of unique values</th>\n",
       "      <th>unique values</th>\n",
       "      <th>dtype</th>\n",
       "    </tr>\n",
       "  </thead>\n",
       "  <tbody>\n",
       "    <tr>\n",
       "      <th>28</th>\n",
       "      <td>Proposed Construction Type Description</td>\n",
       "      <td>5</td>\n",
       "      <td>[nan, constr type 1, wood frame (5), constr ty...</td>\n",
       "      <td>object</td>\n",
       "    </tr>\n",
       "    <tr>\n",
       "      <th>27</th>\n",
       "      <td>Proposed Construction Type</td>\n",
       "      <td>5</td>\n",
       "      <td>[nan, 1.0, 5.0, 3.0, 4.0, 2.0]</td>\n",
       "      <td>float64</td>\n",
       "    </tr>\n",
       "    <tr>\n",
       "      <th>26</th>\n",
       "      <td>Existing Construction Type Description</td>\n",
       "      <td>5</td>\n",
       "      <td>[constr type 3, constr type 1, wood frame (5),...</td>\n",
       "      <td>object</td>\n",
       "    </tr>\n",
       "    <tr>\n",
       "      <th>25</th>\n",
       "      <td>Existing Construction Type</td>\n",
       "      <td>5</td>\n",
       "      <td>[3.0, 1.0, 5.0, nan, 2.0, 4.0]</td>\n",
       "      <td>float64</td>\n",
       "    </tr>\n",
       "    <tr>\n",
       "      <th>0</th>\n",
       "      <td>Permit Type</td>\n",
       "      <td>8</td>\n",
       "      <td>[4, 3, 8, 6, 7, 1, 5, 2]</td>\n",
       "      <td>int64</td>\n",
       "    </tr>\n",
       "    <tr>\n",
       "      <th>1</th>\n",
       "      <td>Permit Type Definition</td>\n",
       "      <td>8</td>\n",
       "      <td>[sign - erect, additions alterations or repair...</td>\n",
       "      <td>object</td>\n",
       "    </tr>\n",
       "    <tr>\n",
       "      <th>24</th>\n",
       "      <td>Plansets</td>\n",
       "      <td>8</td>\n",
       "      <td>[2.0, 0.0, nan, 6.0, 4.0, 3.0, 20.0, 9000.0, 1.0]</td>\n",
       "      <td>float64</td>\n",
       "    </tr>\n",
       "    <tr>\n",
       "      <th>29</th>\n",
       "      <td>Supervisor District</td>\n",
       "      <td>11</td>\n",
       "      <td>[3.0, 6.0, 10.0, 5.0, 8.0, 2.0, 9.0, 4.0, 1.0,...</td>\n",
       "      <td>float64</td>\n",
       "    </tr>\n",
       "    <tr>\n",
       "      <th>9</th>\n",
       "      <td>Current Status</td>\n",
       "      <td>14</td>\n",
       "      <td>[expired, issued, withdrawn, complete, filed, ...</td>\n",
       "      <td>object</td>\n",
       "    </tr>\n",
       "    <tr>\n",
       "      <th>7</th>\n",
       "      <td>Street Suffix</td>\n",
       "      <td>21</td>\n",
       "      <td>[St, Av, Tr, Ct, Bl, Wy, Dr, nan, Rd, Cr, Pl, ...</td>\n",
       "      <td>object</td>\n",
       "    </tr>\n",
       "  </tbody>\n",
       "</table>\n",
       "</div>"
      ],
      "text/plain": [
       "                                  col_name  number of unique values  \\\n",
       "28  Proposed Construction Type Description                        5   \n",
       "27              Proposed Construction Type                        5   \n",
       "26  Existing Construction Type Description                        5   \n",
       "25              Existing Construction Type                        5   \n",
       "0                              Permit Type                        8   \n",
       "1                   Permit Type Definition                        8   \n",
       "24                                Plansets                        8   \n",
       "29                     Supervisor District                       11   \n",
       "9                           Current Status                       14   \n",
       "7                            Street Suffix                       21   \n",
       "\n",
       "                                        unique values    dtype  \n",
       "28  [nan, constr type 1, wood frame (5), constr ty...   object  \n",
       "27                     [nan, 1.0, 5.0, 3.0, 4.0, 2.0]  float64  \n",
       "26  [constr type 3, constr type 1, wood frame (5),...   object  \n",
       "25                     [3.0, 1.0, 5.0, nan, 2.0, 4.0]  float64  \n",
       "0                            [4, 3, 8, 6, 7, 1, 5, 2]    int64  \n",
       "1   [sign - erect, additions alterations or repair...   object  \n",
       "24  [2.0, 0.0, nan, 6.0, 4.0, 3.0, 20.0, 9000.0, 1.0]  float64  \n",
       "29  [3.0, 6.0, 10.0, 5.0, 8.0, 2.0, 9.0, 4.0, 1.0,...  float64  \n",
       "9   [expired, issued, withdrawn, complete, filed, ...   object  \n",
       "7   [St, Av, Tr, Ct, Bl, Wy, Dr, nan, Rd, Cr, Pl, ...   object  "
      ]
     },
     "execution_count": 11,
     "metadata": {},
     "output_type": "execute_result"
    }
   ],
   "source": [
    "unique_vals(df).head(10)"
   ]
  },
  {
   "cell_type": "markdown",
   "id": "344ec94c",
   "metadata": {},
   "source": [
    "From this we can say that columns 'Proposed Construction Type Description' & 'Proposed Construction Type' are identical. Also there is other columns like this two: 'Existing Construction Type Description' & 'Existing Construction Type', 'Permit Type' & 'Permit Type Definition'. Then we will search to other columns that will be colinear."
   ]
  },
  {
   "cell_type": "code",
   "execution_count": 12,
   "id": "85055962",
   "metadata": {},
   "outputs": [
    {
     "data": {
      "text/plain": [
       "Text(0.5, 1.0, 'Comparison of the Estimated and Revised costs')"
      ]
     },
     "execution_count": 12,
     "metadata": {},
     "output_type": "execute_result"
    },
    {
     "data": {
      "image/png": "[encoded data removed]",
      "text/plain": [
       "<Figure size 432x288 with 1 Axes>"
      ]
     },
     "metadata": {
      "needs_background": "light"
     },
     "output_type": "display_data"
    }
   ],
   "source": [
    "df.plot(x='Estimated Cost', y='Revised Cost', style='o');\n",
    "plt.title(\"Comparison of the Estimated and Revised costs\")"
   ]
  },
  {
   "cell_type": "code",
   "execution_count": 13,
   "id": "2ca85fd3",
   "metadata": {},
   "outputs": [
    {
     "data": {
      "text/plain": [
       "Text(0.5, 1.0, 'Comparison of the Estimated and Revised Stories Numbers')"
      ]
     },
     "execution_count": 13,
     "metadata": {},
     "output_type": "execute_result"
    },
    {
     "data": {
      "image/png": "[encoded data removed]",
      "text/plain": [
       "<Figure size 432x288 with 1 Axes>"
      ]
     },
     "metadata": {
      "needs_background": "light"
     },
     "output_type": "display_data"
    }
   ],
   "source": [
    "df.plot(x='Number of Existing Stories', y='Number of Proposed Stories', style='o');\n",
    "plt.title(\"Comparison of the Estimated and Revised Stories Numbers\")"
   ]
  },
  {
   "cell_type": "code",
   "execution_count": 14,
   "id": "87ccc5f3",
   "metadata": {},
   "outputs": [
    {
     "data": {
      "text/plain": [
       "Text(0.5, 1.0, 'Comparison of the Estimated and Revised Units')"
      ]
     },
     "execution_count": 14,
     "metadata": {},
     "output_type": "execute_result"
    },
    {
     "data": {
      "image/png": "[encoded data removed]",
      "text/plain": [
       "<Figure size 432x288 with 1 Axes>"
      ]
     },
     "metadata": {
      "needs_background": "light"
     },
     "output_type": "display_data"
    }
   ],
   "source": [
    "df.plot(x='Existing Units', y='Proposed Units', style='o');\n",
    "plt.title(\"Comparison of the Estimated and Revised Units\")"
   ]
  },
  {
   "cell_type": "code",
   "execution_count": 15,
   "id": "cd611232",
   "metadata": {},
   "outputs": [
    {
     "data": {
      "text/plain": [
       "Text(0.5, 1.0, 'Comparison of the Current Status date and Competed Date')"
      ]
     },
     "execution_count": 15,
     "metadata": {},
     "output_type": "execute_result"
    },
    {
     "data": {
      "image/png": "[encoded data removed]",
      "text/plain": [
       "<Figure size 432x288 with 1 Axes>"
      ]
     },
     "metadata": {
      "needs_background": "light"
     },
     "output_type": "display_data"
    }
   ],
   "source": [
    "df['Completed Date'] = pd.to_datetime(df['Completed Date'])\n",
    "df['Current Status Date'] = pd.to_datetime(df['Current Status Date'])\n",
    "df.plot(x='Completed Date', y='Current Status Date', style='o');\n",
    "plt.title(\"Comparison of the Current Status date and Competed Date\")"
   ]
  },
  {
   "cell_type": "code",
   "execution_count": 16,
   "id": "d6644f6c",
   "metadata": {},
   "outputs": [],
   "source": [
    "df['Revised Cost'].fillna(df['Estimated Cost'], inplace=True)\n",
    "df['Estimated Cost'].fillna(df['Revised Cost'], inplace=True)\n",
    "\n",
    "df['Number of Existing Stories'].fillna(df['Number of Proposed Stories'], inplace=True)\n",
    "df['Number of Proposed Stories'].fillna(df['Number of Existing Stories'], inplace=True)\n",
    "\n",
    "df['Existing Units'].fillna(df['Proposed Units'], inplace=True)\n",
    "df['Proposed Units'].fillna(df['Existing Units'], inplace=True)\n",
    "\n",
    "df['Completed Date'].fillna(df['Current Status Date'], inplace=True)"
   ]
  },
  {
   "cell_type": "markdown",
   "id": "2b9a479a",
   "metadata": {},
   "source": [
    "Drop columns that could be colinear to other columns in the data and hence lead to overfitting \n",
    "\n",
    "These include:Permit Type Definition, Proposed Construction Type Description, Existing Construction Type Description, Number of existing stories, estimated cost, existing units,Permit Creation Date, Completed Date"
   ]
  },
  {
   "cell_type": "code",
   "execution_count": 17,
   "id": "d941e01c",
   "metadata": {},
   "outputs": [],
   "source": [
    "df.drop(columns=['Permit Type Definition',\n",
    " 'Proposed Construction Type Description',\n",
    " 'Existing Construction Type Description', \n",
    " 'Number of Existing Stories','Estimated Cost','Existing Units',\n",
    " 'Permit Creation Date','Completed Date'],axis=1,inplace=True)"
   ]
  },
  {
   "cell_type": "code",
   "execution_count": 18,
   "id": "c2ca4f99",
   "metadata": {},
   "outputs": [],
   "source": [
    "# \n",
    "df['Existing Construction Type'] = df[['Permit Type','Existing Construction Type']].groupby('Permit Type').transform(lambda x: x.fillna(mode(x)))\n",
    "df['Proposed Construction Type'] = df[['Permit Type','Proposed Construction Type']].groupby('Permit Type').transform(lambda x: x.fillna(mode(x)))"
   ]
  },
  {
   "cell_type": "code",
   "execution_count": 19,
   "id": "ed1ee484",
   "metadata": {},
   "outputs": [],
   "source": [
    "df.dropna(axis=0,inplace=True)"
   ]
  },
  {
   "cell_type": "code",
   "execution_count": 20,
   "id": "b0e8fdb0",
   "metadata": {},
   "outputs": [
    {
     "data": {
      "text/plain": [
       "(131168, 26)"
      ]
     },
     "execution_count": 20,
     "metadata": {},
     "output_type": "execute_result"
    }
   ],
   "source": [
    "df.shape"
   ]
  },
  {
   "cell_type": "markdown",
   "id": "38fb11be",
   "metadata": {},
   "source": [
    "After dropping unnecessary columns with null values & colinear ones we have 26 columns and close to 132k records. So our dropped unnecessary columns form the 50% of all columns. Then we will check for outliers."
   ]
  },
  {
   "cell_type": "code",
   "execution_count": 21,
   "id": "fb40c3a4",
   "metadata": {
    "scrolled": false
   },
   "outputs": [
    {
     "data": {
      "image/png": "[encoded data removed]",
      "text/plain": [
       "<Figure size 432x288 with 1 Axes>"
      ]
     },
     "metadata": {
      "needs_background": "light"
     },
     "output_type": "display_data"
    },
    {
     "data": {
      "image/png": "[encoded data removed]",
      "text/plain": [
       "<Figure size 432x288 with 1 Axes>"
      ]
     },
     "metadata": {
      "needs_background": "light"
     },
     "output_type": "display_data"
    },
    {
     "data": {
      "image/png": "[encoded data removed]",
      "text/plain": [
       "<Figure size 432x288 with 1 Axes>"
      ]
     },
     "metadata": {
      "needs_background": "light"
     },
     "output_type": "display_data"
    }
   ],
   "source": [
    "def remove_outliers(col):\n",
    "    Q1 = col.describe()[4] \n",
    "    Q3 = col.describe()[6]\n",
    "    IQR = Q3 - Q1\n",
    "    return (df[(col > (Q1 - 1.5 * IQR)) & (col < (Q3 + 1.5 * IQR))])\n",
    "\n",
    "\n",
    "\n",
    "for column in ['Revised Cost','Proposed Units','Plansets' ]:\n",
    "    plt.figure()\n",
    "    df.boxplot([column])\n",
    "    plt.title(\"Outliers of the Plansets, Revised and Proposed costs\")"
   ]
  },
  {
   "cell_type": "code",
   "execution_count": 22,
   "id": "0b485c75",
   "metadata": {},
   "outputs": [],
   "source": [
    "df = remove_outliers(df['Revised Cost'])\n",
    "df = remove_outliers(df['Proposed Units'])\n",
    "df = remove_outliers(df['Plansets'])"
   ]
  },
  {
   "cell_type": "code",
   "execution_count": 23,
   "id": "013ecccb",
   "metadata": {},
   "outputs": [
    {
     "data": {
      "image/png": "[encoded data removed]",
      "text/plain": [
       "<Figure size 432x288 with 1 Axes>"
      ]
     },
     "metadata": {
      "needs_background": "light"
     },
     "output_type": "display_data"
    },
    {
     "data": {
      "image/png": "[encoded data removed]",
      "text/plain": [
       "<Figure size 432x288 with 1 Axes>"
      ]
     },
     "metadata": {
      "needs_background": "light"
     },
     "output_type": "display_data"
    },
    {
     "data": {
      "image/png": "[encoded data removed]",
      "text/plain": [
       "<Figure size 432x288 with 1 Axes>"
      ]
     },
     "metadata": {
      "needs_background": "light"
     },
     "output_type": "display_data"
    }
   ],
   "source": [
    "for column in ['Revised Cost','Proposed Units','Plansets' ]:\n",
    "    plt.figure()\n",
    "    df.boxplot([column])\n",
    "    plt.title(\"The Plansets, Revised and Proposed costs after removing outliers\")"
   ]
  },
  {
   "cell_type": "markdown",
   "id": "06624943",
   "metadata": {},
   "source": []
  },
  {
   "cell_type": "markdown",
   "id": "33115e13",
   "metadata": {},
   "source": [
    "# Exploratory Data Analysis"
   ]
  },
  {
   "cell_type": "markdown",
   "id": "e770226a",
   "metadata": {},
   "source": [
    "Now check the dimension of the given data set ffter dropping outliers."
   ]
  },
  {
   "cell_type": "code",
   "execution_count": 24,
   "id": "4e5002e9",
   "metadata": {},
   "outputs": [
    {
     "data": {
      "text/plain": [
       "(96583, 26)"
      ]
     },
     "execution_count": 24,
     "metadata": {},
     "output_type": "execute_result"
    }
   ],
   "source": [
    "df.shape"
   ]
  },
  {
   "cell_type": "markdown",
   "id": "dd8d135a",
   "metadata": {},
   "source": [
    "So we have 26 columns and about 96583 records."
   ]
  },
  {
   "cell_type": "code",
   "execution_count": 25,
   "id": "17925fd7",
   "metadata": {},
   "outputs": [
    {
     "data": {
      "text/plain": [
       "(96583, 26)"
      ]
     },
     "execution_count": 25,
     "metadata": {},
     "output_type": "execute_result"
    }
   ],
   "source": [
    "df.drop_duplicates()\n",
    "df.shape"
   ]
  },
  {
   "cell_type": "markdown",
   "id": "14aec65a",
   "metadata": {},
   "source": [
    "And we observe that there is no duplicate column in the data set ."
   ]
  },
  {
   "cell_type": "code",
   "execution_count": 26,
   "id": "13f01a58",
   "metadata": {},
   "outputs": [
    {
     "data": {
      "text/html": [
       "<div>\n",
       "<style scoped>\n",
       "    .dataframe tbody tr th:only-of-type {\n",
       "        vertical-align: middle;\n",
       "    }\n",
       "\n",
       "    .dataframe tbody tr th {\n",
       "        vertical-align: top;\n",
       "    }\n",
       "\n",
       "    .dataframe thead th {\n",
       "        text-align: right;\n",
       "    }\n",
       "</style>\n",
       "<table border=\"1\" class=\"dataframe\">\n",
       "  <thead>\n",
       "    <tr style=\"text-align: right;\">\n",
       "      <th></th>\n",
       "      <th>Permit Type</th>\n",
       "      <th>Street Number</th>\n",
       "      <th>Number of Proposed Stories</th>\n",
       "      <th>Revised Cost</th>\n",
       "      <th>Proposed Units</th>\n",
       "      <th>Plansets</th>\n",
       "      <th>Existing Construction Type</th>\n",
       "      <th>Proposed Construction Type</th>\n",
       "      <th>Supervisor District</th>\n",
       "      <th>Zipcode</th>\n",
       "      <th>Record ID</th>\n",
       "    </tr>\n",
       "  </thead>\n",
       "  <tbody>\n",
       "    <tr>\n",
       "      <th>count</th>\n",
       "      <td>96583.000000</td>\n",
       "      <td>96583.000000</td>\n",
       "      <td>96583.000000</td>\n",
       "      <td>96583.000000</td>\n",
       "      <td>96583.000000</td>\n",
       "      <td>96583.000000</td>\n",
       "      <td>96583.000000</td>\n",
       "      <td>96583.000000</td>\n",
       "      <td>96583.000000</td>\n",
       "      <td>96583.000000</td>\n",
       "      <td>9.658300e+04</td>\n",
       "    </tr>\n",
       "    <tr>\n",
       "      <th>mean</th>\n",
       "      <td>7.846443</td>\n",
       "      <td>1119.190727</td>\n",
       "      <td>4.338015</td>\n",
       "      <td>16755.147397</td>\n",
       "      <td>1.745732</td>\n",
       "      <td>0.953936</td>\n",
       "      <td>4.458103</td>\n",
       "      <td>4.454676</td>\n",
       "      <td>5.827475</td>\n",
       "      <td>94116.645445</td>\n",
       "      <td>1.199920e+12</td>\n",
       "    </tr>\n",
       "    <tr>\n",
       "      <th>std</th>\n",
       "      <td>0.862714</td>\n",
       "      <td>1163.675136</td>\n",
       "      <td>6.889622</td>\n",
       "      <td>19459.447240</td>\n",
       "      <td>1.701162</td>\n",
       "      <td>0.999037</td>\n",
       "      <td>1.300425</td>\n",
       "      <td>1.303395</td>\n",
       "      <td>2.986933</td>\n",
       "      <td>8.753848</td>\n",
       "      <td>4.532067e+11</td>\n",
       "    </tr>\n",
       "    <tr>\n",
       "      <th>min</th>\n",
       "      <td>2.000000</td>\n",
       "      <td>1.000000</td>\n",
       "      <td>0.000000</td>\n",
       "      <td>0.000000</td>\n",
       "      <td>0.000000</td>\n",
       "      <td>0.000000</td>\n",
       "      <td>1.000000</td>\n",
       "      <td>1.000000</td>\n",
       "      <td>1.000000</td>\n",
       "      <td>94102.000000</td>\n",
       "      <td>1.296629e+10</td>\n",
       "    </tr>\n",
       "    <tr>\n",
       "      <th>25%</th>\n",
       "      <td>8.000000</td>\n",
       "      <td>218.000000</td>\n",
       "      <td>2.000000</td>\n",
       "      <td>3000.000000</td>\n",
       "      <td>1.000000</td>\n",
       "      <td>0.000000</td>\n",
       "      <td>5.000000</td>\n",
       "      <td>5.000000</td>\n",
       "      <td>3.000000</td>\n",
       "      <td>94110.000000</td>\n",
       "      <td>1.313843e+12</td>\n",
       "    </tr>\n",
       "    <tr>\n",
       "      <th>50%</th>\n",
       "      <td>8.000000</td>\n",
       "      <td>664.000000</td>\n",
       "      <td>3.000000</td>\n",
       "      <td>10000.000000</td>\n",
       "      <td>1.000000</td>\n",
       "      <td>0.000000</td>\n",
       "      <td>5.000000</td>\n",
       "      <td>5.000000</td>\n",
       "      <td>6.000000</td>\n",
       "      <td>94116.000000</td>\n",
       "      <td>1.369733e+12</td>\n",
       "    </tr>\n",
       "    <tr>\n",
       "      <th>75%</th>\n",
       "      <td>8.000000</td>\n",
       "      <td>1715.000000</td>\n",
       "      <td>3.000000</td>\n",
       "      <td>22000.000000</td>\n",
       "      <td>2.000000</td>\n",
       "      <td>2.000000</td>\n",
       "      <td>5.000000</td>\n",
       "      <td>5.000000</td>\n",
       "      <td>8.000000</td>\n",
       "      <td>94122.000000</td>\n",
       "      <td>1.431144e+12</td>\n",
       "    </tr>\n",
       "    <tr>\n",
       "      <th>max</th>\n",
       "      <td>8.000000</td>\n",
       "      <td>8331.000000</td>\n",
       "      <td>63.000000</td>\n",
       "      <td>88922.000000</td>\n",
       "      <td>8.000000</td>\n",
       "      <td>3.000000</td>\n",
       "      <td>5.000000</td>\n",
       "      <td>5.000000</td>\n",
       "      <td>11.000000</td>\n",
       "      <td>94158.000000</td>\n",
       "      <td>1.498339e+12</td>\n",
       "    </tr>\n",
       "  </tbody>\n",
       "</table>\n",
       "</div>"
      ],
      "text/plain": [
       "        Permit Type  Street Number  Number of Proposed Stories  Revised Cost  \\\n",
       "count  96583.000000   96583.000000                96583.000000  96583.000000   \n",
       "mean       7.846443    1119.190727                    4.338015  16755.147397   \n",
       "std        0.862714    1163.675136                    6.889622  19459.447240   \n",
       "min        2.000000       1.000000                    0.000000      0.000000   \n",
       "25%        8.000000     218.000000                    2.000000   3000.000000   \n",
       "50%        8.000000     664.000000                    3.000000  10000.000000   \n",
       "75%        8.000000    1715.000000                    3.000000  22000.000000   \n",
       "max        8.000000    8331.000000                   63.000000  88922.000000   \n",
       "\n",
       "       Proposed Units      Plansets  Existing Construction Type  \\\n",
       "count    96583.000000  96583.000000                96583.000000   \n",
       "mean         1.745732      0.953936                    4.458103   \n",
       "std          1.701162      0.999037                    1.300425   \n",
       "min          0.000000      0.000000                    1.000000   \n",
       "25%          1.000000      0.000000                    5.000000   \n",
       "50%          1.000000      0.000000                    5.000000   \n",
       "75%          2.000000      2.000000                    5.000000   \n",
       "max          8.000000      3.000000                    5.000000   \n",
       "\n",
       "       Proposed Construction Type  Supervisor District       Zipcode  \\\n",
       "count                96583.000000         96583.000000  96583.000000   \n",
       "mean                     4.454676             5.827475  94116.645445   \n",
       "std                      1.303395             2.986933      8.753848   \n",
       "min                      1.000000             1.000000  94102.000000   \n",
       "25%                      5.000000             3.000000  94110.000000   \n",
       "50%                      5.000000             6.000000  94116.000000   \n",
       "75%                      5.000000             8.000000  94122.000000   \n",
       "max                      5.000000            11.000000  94158.000000   \n",
       "\n",
       "          Record ID  \n",
       "count  9.658300e+04  \n",
       "mean   1.199920e+12  \n",
       "std    4.532067e+11  \n",
       "min    1.296629e+10  \n",
       "25%    1.313843e+12  \n",
       "50%    1.369733e+12  \n",
       "75%    1.431144e+12  \n",
       "max    1.498339e+12  "
      ]
     },
     "execution_count": 26,
     "metadata": {},
     "output_type": "execute_result"
    }
   ],
   "source": [
    "df.describe()"
   ]
  },
  {
   "cell_type": "markdown",
   "id": "8476aa64",
   "metadata": {},
   "source": [
    "Then we use describe method to have information about the variables"
   ]
  },
  {
   "cell_type": "markdown",
   "id": "5adb7e19",
   "metadata": {},
   "source": [
    "Using value_counts() method on Proposed Construction Type and Permit Type to identify the count of each category in that column."
   ]
  },
  {
   "cell_type": "code",
   "execution_count": 27,
   "id": "afc00d8e",
   "metadata": {},
   "outputs": [
    {
     "data": {
      "text/plain": [
       "5.0    81288\n",
       "1.0    10442\n",
       "3.0     3318\n",
       "2.0     1365\n",
       "4.0      170\n",
       "Name: Proposed Construction Type, dtype: int64"
      ]
     },
     "execution_count": 27,
     "metadata": {},
     "output_type": "execute_result"
    }
   ],
   "source": [
    "df['Proposed Construction Type'].value_counts()"
   ]
  },
  {
   "cell_type": "code",
   "execution_count": 28,
   "id": "6297c994",
   "metadata": {},
   "outputs": [
    {
     "data": {
      "text/plain": [
       "8    93617\n",
       "3     2965\n",
       "2        1\n",
       "Name: Permit Type, dtype: int64"
      ]
     },
     "execution_count": 28,
     "metadata": {},
     "output_type": "execute_result"
    }
   ],
   "source": [
    "df['Permit Type'].value_counts()"
   ]
  },
  {
   "cell_type": "markdown",
   "id": "fed77255",
   "metadata": {},
   "source": [
    "Plotting heat map to understand the correlation of variables ."
   ]
  },
  {
   "cell_type": "code",
   "execution_count": 29,
   "id": "6908220f",
   "metadata": {},
   "outputs": [
    {
     "data": {
      "text/plain": [
       "Text(0.5, 1.0, 'Correlation of variables')"
      ]
     },
     "execution_count": 29,
     "metadata": {},
     "output_type": "execute_result"
    },
    {
     "data": {
      "image/png": "[encoded data removed]",
      "text/plain": [
       "<Figure size 1080x720 with 2 Axes>"
      ]
     },
     "metadata": {
      "needs_background": "light"
     },
     "output_type": "display_data"
    }
   ],
   "source": [
    "fig,ax = plt.subplots(figsize=(15,10))\n",
    "sns.heatmap(df.corr(), annot=True, cmap='magma')\n",
    "ax.set_title(\"Correlation of variables\")"
   ]
  },
  {
   "cell_type": "markdown",
   "id": "50aba970",
   "metadata": {},
   "source": [
    "Then we plot Revised Cost to understand the distribution."
   ]
  },
  {
   "cell_type": "code",
   "execution_count": 31,
   "id": "4c7188f2",
   "metadata": {},
   "outputs": [
    {
     "data": {
      "text/plain": [
       "Text(0.5, 1.0, 'Distribution of Revised Cost')"
      ]
     },
     "execution_count": 31,
     "metadata": {},
     "output_type": "execute_result"
    },
    {
     "data": {
      "image/png": "[encoded data removed]",
      "text/plain": [
       "<Figure size 360x360 with 1 Axes>"
      ]
     },
     "metadata": {
      "needs_background": "light"
     },
     "output_type": "display_data"
    }
   ],
   "source": [
    "f = sns.displot(df['Revised Cost'], kde=False)\n",
    "plt.title(\"Distribution of Revised Cost\")"
   ]
  },
  {
   "cell_type": "markdown",
   "id": "0189ea66",
   "metadata": {},
   "source": [
    "Plot \"Proposed Construction Type\" to understand which of the proposed type of construction that is the most popular among completed applications for a construction permit."
   ]
  },
  {
   "cell_type": "code",
   "execution_count": 32,
   "id": "3691400a",
   "metadata": {},
   "outputs": [
    {
     "data": {
      "text/plain": [
       "Text(0.5, 1.0, 'Most popular type of Proposed Construction with current status compete')"
      ]
     },
     "execution_count": 32,
     "metadata": {},
     "output_type": "execute_result"
    },
    {
     "data": {
      "image/png": "[encoded data removed]",
      "text/plain": [
       "<Figure size 432x288 with 1 Axes>"
      ]
     },
     "metadata": {
      "needs_background": "light"
     },
     "output_type": "display_data"
    }
   ],
   "source": [
    "sns.countplot(x = \"Proposed Construction Type\", data = df[(df['Current Status'])=='complete'])\n",
    "plt.title(\"Most popular type of Proposed Construction with current status compete\")"
   ]
  },
  {
   "cell_type": "markdown",
   "id": "e4e44998",
   "metadata": {},
   "source": [
    "Plot \"Proposed Construction Type\" to understand which type of permit description, for example, new construction, changes are the most popular among completed current status."
   ]
  },
  {
   "cell_type": "code",
   "execution_count": 33,
   "id": "addb4622",
   "metadata": {},
   "outputs": [
    {
     "data": {
      "text/plain": [
       "Text(0.5, 1.0, 'Most popular type of Proposed Construction with current status issued')"
      ]
     },
     "execution_count": 33,
     "metadata": {},
     "output_type": "execute_result"
    },
    {
     "data": {
      "image/png": "[encoded data removed]",
      "text/plain": [
       "<Figure size 432x288 with 1 Axes>"
      ]
     },
     "metadata": {
      "needs_background": "light"
     },
     "output_type": "display_data"
    }
   ],
   "source": [
    "sns.countplot(x = \"Proposed Construction Type\", data = df[(df['Current Status'])=='issued'])\n",
    "plt.title(\"Most popular type of Proposed Construction with current status issued\")"
   ]
  },
  {
   "cell_type": "markdown",
   "id": "ceb224c7",
   "metadata": {},
   "source": [
    "Plot \"Proposed Construction Type\" to understand which of the proposed type of construction that is the most popular among issued applications for a construction permit."
   ]
  },
  {
   "cell_type": "code",
   "execution_count": 34,
   "id": "5da5cd85",
   "metadata": {},
   "outputs": [
    {
     "data": {
      "text/plain": [
       "Text(0.5, 1.0, 'Most popular type of Permit with current status complete')"
      ]
     },
     "execution_count": 34,
     "metadata": {},
     "output_type": "execute_result"
    },
    {
     "data": {
      "image/png": "[encoded data removed]",
      "text/plain": [
       "<Figure size 432x288 with 1 Axes>"
      ]
     },
     "metadata": {
      "needs_background": "light"
     },
     "output_type": "display_data"
    }
   ],
   "source": [
    "sns.countplot(x = \"Permit Type\", data = df[(df['Current Status'])=='complete'])\n",
    "plt.title(\"Most popular type of Permit with current status complete\")"
   ]
  },
  {
   "cell_type": "markdown",
   "id": "46683eca",
   "metadata": {},
   "source": [
    "Plot \"Permit Type\" to understand which type of permit description, for example, new construction, changes are the most popular among complete current status."
   ]
  },
  {
   "cell_type": "code",
   "execution_count": 35,
   "id": "e51b1faa",
   "metadata": {},
   "outputs": [
    {
     "data": {
      "text/plain": [
       "Text(0.5, 1.0, 'Most popular type of Permit with current status issued')"
      ]
     },
     "execution_count": 35,
     "metadata": {},
     "output_type": "execute_result"
    },
    {
     "data": {
      "image/png": "[encoded data removed]",
      "text/plain": [
       "<Figure size 432x288 with 1 Axes>"
      ]
     },
     "metadata": {
      "needs_background": "light"
     },
     "output_type": "display_data"
    }
   ],
   "source": [
    "sns.countplot(x = \"Permit Type\", data = df[(df['Current Status'])=='issued'])\n",
    "plt.title(\"Most popular type of Permit with current status issued\")"
   ]
  },
  {
   "cell_type": "markdown",
   "id": "86329ce4",
   "metadata": {},
   "source": [
    "Plot \"Permit Type\" to understand which type of permit description, for example, new construction, changes are the most popular among issued current status."
   ]
  },
  {
   "cell_type": "code",
   "execution_count": 36,
   "id": "da244fd5",
   "metadata": {},
   "outputs": [
    {
     "name": "stderr",
     "output_type": "stream",
     "text": [
      "/opt/anaconda3/lib/python3.8/site-packages/seaborn/_decorators.py:36: FutureWarning: Pass the following variable as a keyword arg: x. From version 0.12, the only valid positional argument will be `data`, and passing other arguments without an explicit keyword will result in an error or misinterpretation.\n",
      "  warnings.warn(\n"
     ]
    },
    {
     "data": {
      "text/plain": [
       "Text(0.5, 1.0, 'Most popular status')"
      ]
     },
     "execution_count": 36,
     "metadata": {},
     "output_type": "execute_result"
    },
    {
     "data": {
      "image/png": "[encoded data removed]",
      "text/plain": [
       "<Figure size 1440x432 with 1 Axes>"
      ]
     },
     "metadata": {
      "needs_background": "light"
     },
     "output_type": "display_data"
    }
   ],
   "source": [
    "plt.figure(figsize = (20, 6))\n",
    "sns.set_context(\"poster\", font_scale = 0.9)\n",
    "sns.countplot(df['Current Status'])\n",
    "plt.title(\"Most popular status\")"
   ]
  },
  {
   "cell_type": "markdown",
   "id": "5f1565ea",
   "metadata": {},
   "source": [
    "From this countplot we see that complete current statuses much more than others. Also issued current status is about 30 000 while expired and cancelled current statuses are less than 5000."
   ]
  },
  {
   "cell_type": "markdown",
   "id": "5e079dad",
   "metadata": {},
   "source": [
    "### Data Transformation\n"
   ]
  },
  {
   "cell_type": "code",
   "execution_count": 37,
   "id": "a9e94fb4",
   "metadata": {},
   "outputs": [],
   "source": [
    "df['Current Status Date'] = pd.to_datetime(df['Current Status Date'])\n",
    "df['Filed Date'] = pd.to_datetime(df['Filed Date'])\n",
    "df['Issued Date'] = pd.to_datetime(df['Issued Date'])\n",
    "df['First Construction Document Date'] = pd.to_datetime(df['First Construction Document Date'])\n",
    "df['Permit Expiration Date'] = pd.to_datetime(df['Permit Expiration Date'])"
   ]
  },
  {
   "cell_type": "markdown",
   "id": "48ed999b",
   "metadata": {},
   "source": [
    "We want to see at what stage/month the applications for a permit and the issuance of a permit take place."
   ]
  },
  {
   "cell_type": "code",
   "execution_count": 38,
   "id": "cb55a304",
   "metadata": {},
   "outputs": [
    {
     "name": "stderr",
     "output_type": "stream",
     "text": [
      "/opt/anaconda3/lib/python3.8/site-packages/seaborn/_decorators.py:36: FutureWarning: Pass the following variable as a keyword arg: x. From version 0.12, the only valid positional argument will be `data`, and passing other arguments without an explicit keyword will result in an error or misinterpretation.\n",
      "  warnings.warn(\n"
     ]
    },
    {
     "data": {
      "text/plain": [
       "Text(0.5, 1.0, 'Most popular type of month of the Filed Date for a permit')"
      ]
     },
     "execution_count": 38,
     "metadata": {},
     "output_type": "execute_result"
    },
    {
     "data": {
      "image/png": "[encoded data removed]",
      "text/plain": [
       "<Figure size 864x432 with 1 Axes>"
      ]
     },
     "metadata": {
      "needs_background": "light"
     },
     "output_type": "display_data"
    }
   ],
   "source": [
    "# Plotting the Countplot for Filed Date Month:\n",
    "\n",
    "plt.figure(figsize=(12,6))\n",
    "sns.set_context(\"poster\")\n",
    "sns.countplot(df['Filed Date'].dt.month)\n",
    "plt.title(\"Most popular type of month of the Filed Date for a permit\")"
   ]
  },
  {
   "cell_type": "code",
   "execution_count": 39,
   "id": "a2ef9bc3",
   "metadata": {},
   "outputs": [
    {
     "name": "stderr",
     "output_type": "stream",
     "text": [
      "/opt/anaconda3/lib/python3.8/site-packages/seaborn/_decorators.py:36: FutureWarning: Pass the following variable as a keyword arg: x. From version 0.12, the only valid positional argument will be `data`, and passing other arguments without an explicit keyword will result in an error or misinterpretation.\n",
      "  warnings.warn(\n"
     ]
    },
    {
     "data": {
      "text/plain": [
       "Text(0.5, 1.0, 'Most popular type of month of the Issued Date for a permit')"
      ]
     },
     "execution_count": 39,
     "metadata": {},
     "output_type": "execute_result"
    },
    {
     "data": {
      "image/png": "[encoded data removed]",
      "text/plain": [
       "<Figure size 864x432 with 1 Axes>"
      ]
     },
     "metadata": {
      "needs_background": "light"
     },
     "output_type": "display_data"
    }
   ],
   "source": [
    "# Plotting the Countplot for Issued Date Month:\n",
    "\n",
    "plt.figure(figsize=(12,6))\n",
    "sns.set_context(\"poster\")\n",
    "sns.countplot(df['Issued Date'].dt.month)\n",
    "plt.title(\"Most popular type of month of the Issued Date for a permit\")"
   ]
  },
  {
   "cell_type": "code",
   "execution_count": 40,
   "id": "f44d06b1",
   "metadata": {},
   "outputs": [
    {
     "name": "stderr",
     "output_type": "stream",
     "text": [
      "/opt/anaconda3/lib/python3.8/site-packages/seaborn/_decorators.py:36: FutureWarning: Pass the following variable as a keyword arg: x. From version 0.12, the only valid positional argument will be `data`, and passing other arguments without an explicit keyword will result in an error or misinterpretation.\n",
      "  warnings.warn(\n"
     ]
    },
    {
     "data": {
      "text/plain": [
       "Text(0.5, 1.0, 'Most popular type of day of the Issued Date for a permit')"
      ]
     },
     "execution_count": 40,
     "metadata": {},
     "output_type": "execute_result"
    },
    {
     "data": {
      "image/png": "[encoded data removed]",
      "text/plain": [
       "<Figure size 1440x360 with 1 Axes>"
      ]
     },
     "metadata": {
      "needs_background": "light"
     },
     "output_type": "display_data"
    }
   ],
   "source": [
    "# Countplot for the days on which permits are issued:\n",
    "\n",
    "plt.figure(figsize=(20,5))\n",
    "sns.countplot(df['Issued Date'].dt.day)\n",
    "plt.title(\"Most popular type of day of the Issued Date for a permit\")"
   ]
  },
  {
   "cell_type": "markdown",
   "id": "b93729f7",
   "metadata": {},
   "source": [
    "It is plausible to conclude by just looking at the two count plots above that most filings and issues occur during the all of a year. There is no exact month or months for it. But we can also notice that the applications decrease towards the end"
   ]
  },
  {
   "cell_type": "markdown",
   "id": "ed51590e",
   "metadata": {},
   "source": [
    "# Feature engineering"
   ]
  },
  {
   "cell_type": "markdown",
   "id": "623e9392",
   "metadata": {},
   "source": [
    "We will calculate how long it will take to issue a building permit by creating a target time variable in days from the Filed Date and the Issued Date."
   ]
  },
  {
   "cell_type": "code",
   "execution_count": 41,
   "id": "a5352fd0",
   "metadata": {},
   "outputs": [
    {
     "data": {
      "text/html": [
       "<div>\n",
       "<style scoped>\n",
       "    .dataframe tbody tr th:only-of-type {\n",
       "        vertical-align: middle;\n",
       "    }\n",
       "\n",
       "    .dataframe tbody tr th {\n",
       "        vertical-align: top;\n",
       "    }\n",
       "\n",
       "    .dataframe thead th {\n",
       "        text-align: right;\n",
       "    }\n",
       "</style>\n",
       "<table border=\"1\" class=\"dataframe\">\n",
       "  <thead>\n",
       "    <tr style=\"text-align: right;\">\n",
       "      <th></th>\n",
       "      <th>Issued Date</th>\n",
       "      <th>Filed Date</th>\n",
       "    </tr>\n",
       "    <tr>\n",
       "      <th>Permit Number</th>\n",
       "      <th></th>\n",
       "      <th></th>\n",
       "    </tr>\n",
       "  </thead>\n",
       "  <tbody>\n",
       "    <tr>\n",
       "      <th>201611072166</th>\n",
       "      <td>2017-07-18</td>\n",
       "      <td>2016-11-07</td>\n",
       "    </tr>\n",
       "    <tr>\n",
       "      <th>201706300814</th>\n",
       "      <td>2017-06-30</td>\n",
       "      <td>2017-06-30</td>\n",
       "    </tr>\n",
       "    <tr>\n",
       "      <th>201708165014</th>\n",
       "      <td>2017-08-16</td>\n",
       "      <td>2017-08-16</td>\n",
       "    </tr>\n",
       "    <tr>\n",
       "      <th>201710110928</th>\n",
       "      <td>2017-10-11</td>\n",
       "      <td>2017-10-11</td>\n",
       "    </tr>\n",
       "    <tr>\n",
       "      <th>201711274868</th>\n",
       "      <td>2017-11-27</td>\n",
       "      <td>2017-11-27</td>\n",
       "    </tr>\n",
       "  </tbody>\n",
       "</table>\n",
       "</div>"
      ],
      "text/plain": [
       "              Issued Date Filed Date\n",
       "Permit Number                       \n",
       "201611072166   2017-07-18 2016-11-07\n",
       "201706300814   2017-06-30 2017-06-30\n",
       "201708165014   2017-08-16 2017-08-16\n",
       "201710110928   2017-10-11 2017-10-11\n",
       "201711274868   2017-11-27 2017-11-27"
      ]
     },
     "execution_count": 41,
     "metadata": {},
     "output_type": "execute_result"
    }
   ],
   "source": [
    "df[['Issued Date','Filed Date']].head()"
   ]
  },
  {
   "cell_type": "code",
   "execution_count": 42,
   "id": "119db687",
   "metadata": {},
   "outputs": [
    {
     "data": {
      "text/plain": [
       "count    96583.000000\n",
       "mean        17.152211\n",
       "std         65.828683\n",
       "min          0.000000\n",
       "25%          0.000000\n",
       "50%          0.000000\n",
       "75%          4.000000\n",
       "max       1545.000000\n",
       "Name: days, dtype: float64"
      ]
     },
     "execution_count": 42,
     "metadata": {},
     "output_type": "execute_result"
    }
   ],
   "source": [
    "df['days'] = (df['Issued Date'] - df['Filed Date']).dt.days\n",
    "df['days'].describe()"
   ]
  },
  {
   "cell_type": "code",
   "execution_count": 43,
   "id": "fd34cae6",
   "metadata": {},
   "outputs": [
    {
     "data": {
      "text/html": [
       "<div>\n",
       "<style scoped>\n",
       "    .dataframe tbody tr th:only-of-type {\n",
       "        vertical-align: middle;\n",
       "    }\n",
       "\n",
       "    .dataframe tbody tr th {\n",
       "        vertical-align: top;\n",
       "    }\n",
       "\n",
       "    .dataframe thead th {\n",
       "        text-align: right;\n",
       "    }\n",
       "</style>\n",
       "<table border=\"1\" class=\"dataframe\">\n",
       "  <thead>\n",
       "    <tr style=\"text-align: right;\">\n",
       "      <th></th>\n",
       "      <th>Permit Type</th>\n",
       "      <th>Block</th>\n",
       "      <th>Lot</th>\n",
       "      <th>Street Number</th>\n",
       "      <th>Street Name</th>\n",
       "      <th>Street Suffix</th>\n",
       "      <th>Description</th>\n",
       "      <th>Current Status</th>\n",
       "      <th>Current Status Date</th>\n",
       "      <th>Filed Date</th>\n",
       "      <th>...</th>\n",
       "      <th>Proposed Units</th>\n",
       "      <th>Plansets</th>\n",
       "      <th>Existing Construction Type</th>\n",
       "      <th>Proposed Construction Type</th>\n",
       "      <th>Supervisor District</th>\n",
       "      <th>Neighborhoods - Analysis Boundaries</th>\n",
       "      <th>Zipcode</th>\n",
       "      <th>Location</th>\n",
       "      <th>Record ID</th>\n",
       "      <th>days</th>\n",
       "    </tr>\n",
       "    <tr>\n",
       "      <th>Permit Number</th>\n",
       "      <th></th>\n",
       "      <th></th>\n",
       "      <th></th>\n",
       "      <th></th>\n",
       "      <th></th>\n",
       "      <th></th>\n",
       "      <th></th>\n",
       "      <th></th>\n",
       "      <th></th>\n",
       "      <th></th>\n",
       "      <th></th>\n",
       "      <th></th>\n",
       "      <th></th>\n",
       "      <th></th>\n",
       "      <th></th>\n",
       "      <th></th>\n",
       "      <th></th>\n",
       "      <th></th>\n",
       "      <th></th>\n",
       "      <th></th>\n",
       "      <th></th>\n",
       "    </tr>\n",
       "  </thead>\n",
       "  <tbody>\n",
       "    <tr>\n",
       "      <th>201304104189</th>\n",
       "      <td>3</td>\n",
       "      <td>5890</td>\n",
       "      <td>013A</td>\n",
       "      <td>219</td>\n",
       "      <td>Maynard</td>\n",
       "      <td>St</td>\n",
       "      <td>horizontal addition at westerly of front. enla...</td>\n",
       "      <td>issued</td>\n",
       "      <td>2017-07-03</td>\n",
       "      <td>2013-04-10</td>\n",
       "      <td>...</td>\n",
       "      <td>1.0</td>\n",
       "      <td>2.0</td>\n",
       "      <td>5.0</td>\n",
       "      <td>5.0</td>\n",
       "      <td>11.0</td>\n",
       "      <td>Excelsior</td>\n",
       "      <td>94112.0</td>\n",
       "      <td>(37.72964231884756, -122.4255680391135)</td>\n",
       "      <td>1301258190425</td>\n",
       "      <td>1545</td>\n",
       "    </tr>\n",
       "  </tbody>\n",
       "</table>\n",
       "<p>1 rows × 27 columns</p>\n",
       "</div>"
      ],
      "text/plain": [
       "               Permit Type Block   Lot  Street Number Street Name  \\\n",
       "Permit Number                                                       \n",
       "201304104189             3  5890  013A            219     Maynard   \n",
       "\n",
       "              Street Suffix  \\\n",
       "Permit Number                 \n",
       "201304104189             St   \n",
       "\n",
       "                                                     Description  \\\n",
       "Permit Number                                                      \n",
       "201304104189   horizontal addition at westerly of front. enla...   \n",
       "\n",
       "              Current Status Current Status Date Filed Date  ...  \\\n",
       "Permit Number                                                ...   \n",
       "201304104189          issued          2017-07-03 2013-04-10  ...   \n",
       "\n",
       "              Proposed Units Plansets  Existing Construction Type  \\\n",
       "Permit Number                                                       \n",
       "201304104189             1.0      2.0                         5.0   \n",
       "\n",
       "              Proposed Construction Type  Supervisor District  \\\n",
       "Permit Number                                                   \n",
       "201304104189                         5.0                 11.0   \n",
       "\n",
       "              Neighborhoods - Analysis Boundaries  Zipcode  \\\n",
       "Permit Number                                                \n",
       "201304104189                            Excelsior  94112.0   \n",
       "\n",
       "                                              Location      Record ID  days  \n",
       "Permit Number                                                                \n",
       "201304104189   (37.72964231884756, -122.4255680391135)  1301258190425  1545  \n",
       "\n",
       "[1 rows x 27 columns]"
      ]
     },
     "execution_count": 43,
     "metadata": {},
     "output_type": "execute_result"
    }
   ],
   "source": [
    "df[df['days']== df['days'].describe()['max']]\n",
    "# Permit type with longest issue time is of category 3"
   ]
  },
  {
   "cell_type": "code",
   "execution_count": 44,
   "id": "c07e7e4d",
   "metadata": {},
   "outputs": [
    {
     "data": {
      "text/html": [
       "<div>\n",
       "<style scoped>\n",
       "    .dataframe tbody tr th:only-of-type {\n",
       "        vertical-align: middle;\n",
       "    }\n",
       "\n",
       "    .dataframe tbody tr th {\n",
       "        vertical-align: top;\n",
       "    }\n",
       "\n",
       "    .dataframe thead th {\n",
       "        text-align: right;\n",
       "    }\n",
       "</style>\n",
       "<table border=\"1\" class=\"dataframe\">\n",
       "  <thead>\n",
       "    <tr style=\"text-align: right;\">\n",
       "      <th></th>\n",
       "      <th>Permit Type</th>\n",
       "      <th>Block</th>\n",
       "      <th>Lot</th>\n",
       "      <th>Street Number</th>\n",
       "      <th>Street Name</th>\n",
       "      <th>Street Suffix</th>\n",
       "      <th>Description</th>\n",
       "      <th>Current Status</th>\n",
       "      <th>Current Status Date</th>\n",
       "      <th>Filed Date</th>\n",
       "      <th>...</th>\n",
       "      <th>Proposed Units</th>\n",
       "      <th>Plansets</th>\n",
       "      <th>Existing Construction Type</th>\n",
       "      <th>Proposed Construction Type</th>\n",
       "      <th>Supervisor District</th>\n",
       "      <th>Neighborhoods - Analysis Boundaries</th>\n",
       "      <th>Zipcode</th>\n",
       "      <th>Location</th>\n",
       "      <th>Record ID</th>\n",
       "      <th>days</th>\n",
       "    </tr>\n",
       "    <tr>\n",
       "      <th>Permit Number</th>\n",
       "      <th></th>\n",
       "      <th></th>\n",
       "      <th></th>\n",
       "      <th></th>\n",
       "      <th></th>\n",
       "      <th></th>\n",
       "      <th></th>\n",
       "      <th></th>\n",
       "      <th></th>\n",
       "      <th></th>\n",
       "      <th></th>\n",
       "      <th></th>\n",
       "      <th></th>\n",
       "      <th></th>\n",
       "      <th></th>\n",
       "      <th></th>\n",
       "      <th></th>\n",
       "      <th></th>\n",
       "      <th></th>\n",
       "      <th></th>\n",
       "      <th></th>\n",
       "    </tr>\n",
       "  </thead>\n",
       "  <tbody>\n",
       "    <tr>\n",
       "      <th>201706300814</th>\n",
       "      <td>8</td>\n",
       "      <td>1739</td>\n",
       "      <td>020</td>\n",
       "      <td>1291</td>\n",
       "      <td>11th</td>\n",
       "      <td>Av</td>\n",
       "      <td>re-roofing</td>\n",
       "      <td>complete</td>\n",
       "      <td>2017-07-12</td>\n",
       "      <td>2017-06-30</td>\n",
       "      <td>...</td>\n",
       "      <td>5.0</td>\n",
       "      <td>0.0</td>\n",
       "      <td>5.0</td>\n",
       "      <td>5.0</td>\n",
       "      <td>5.0</td>\n",
       "      <td>Inner Sunset</td>\n",
       "      <td>94122.0</td>\n",
       "      <td>(37.764145640138565, -122.46875112470363)</td>\n",
       "      <td>1468970403692</td>\n",
       "      <td>0</td>\n",
       "    </tr>\n",
       "    <tr>\n",
       "      <th>201708165014</th>\n",
       "      <td>8</td>\n",
       "      <td>1824</td>\n",
       "      <td>006</td>\n",
       "      <td>1435</td>\n",
       "      <td>29th</td>\n",
       "      <td>Av</td>\n",
       "      <td>re-roofing</td>\n",
       "      <td>issued</td>\n",
       "      <td>2017-08-16</td>\n",
       "      <td>2017-08-16</td>\n",
       "      <td>...</td>\n",
       "      <td>1.0</td>\n",
       "      <td>0.0</td>\n",
       "      <td>5.0</td>\n",
       "      <td>5.0</td>\n",
       "      <td>4.0</td>\n",
       "      <td>Sunset/Parkside</td>\n",
       "      <td>94122.0</td>\n",
       "      <td>(37.76052279949518, -122.4879889739165)</td>\n",
       "      <td>1474841115935</td>\n",
       "      <td>0</td>\n",
       "    </tr>\n",
       "    <tr>\n",
       "      <th>201710110928</th>\n",
       "      <td>8</td>\n",
       "      <td>5934</td>\n",
       "      <td>020</td>\n",
       "      <td>938</td>\n",
       "      <td>Felton</td>\n",
       "      <td>St</td>\n",
       "      <td>reroofing</td>\n",
       "      <td>complete</td>\n",
       "      <td>2017-10-31</td>\n",
       "      <td>2017-10-11</td>\n",
       "      <td>...</td>\n",
       "      <td>1.0</td>\n",
       "      <td>0.0</td>\n",
       "      <td>5.0</td>\n",
       "      <td>5.0</td>\n",
       "      <td>9.0</td>\n",
       "      <td>Portola</td>\n",
       "      <td>94134.0</td>\n",
       "      <td>(37.72775517946509, -122.41419227409298)</td>\n",
       "      <td>1482932191681</td>\n",
       "      <td>0</td>\n",
       "    </tr>\n",
       "    <tr>\n",
       "      <th>201711274868</th>\n",
       "      <td>8</td>\n",
       "      <td>1744</td>\n",
       "      <td>039</td>\n",
       "      <td>1241</td>\n",
       "      <td>06th</td>\n",
       "      <td>Av</td>\n",
       "      <td>install 6 vinyl windows size for size on back ...</td>\n",
       "      <td>issued</td>\n",
       "      <td>2017-11-27</td>\n",
       "      <td>2017-11-27</td>\n",
       "      <td>...</td>\n",
       "      <td>3.0</td>\n",
       "      <td>0.0</td>\n",
       "      <td>5.0</td>\n",
       "      <td>5.0</td>\n",
       "      <td>5.0</td>\n",
       "      <td>Inner Sunset</td>\n",
       "      <td>94122.0</td>\n",
       "      <td>(37.76535779270799, -122.46346983597869)</td>\n",
       "      <td>1488409505430</td>\n",
       "      <td>0</td>\n",
       "    </tr>\n",
       "    <tr>\n",
       "      <th>201408254591</th>\n",
       "      <td>8</td>\n",
       "      <td>3509</td>\n",
       "      <td>029</td>\n",
       "      <td>63</td>\n",
       "      <td>Grace</td>\n",
       "      <td>St</td>\n",
       "      <td>to comply with physical inspection report cc7777</td>\n",
       "      <td>complete</td>\n",
       "      <td>2017-10-04</td>\n",
       "      <td>2014-08-25</td>\n",
       "      <td>...</td>\n",
       "      <td>4.0</td>\n",
       "      <td>0.0</td>\n",
       "      <td>5.0</td>\n",
       "      <td>5.0</td>\n",
       "      <td>6.0</td>\n",
       "      <td>South of Market</td>\n",
       "      <td>94103.0</td>\n",
       "      <td>(37.774944547030586, -122.41443674356925)</td>\n",
       "      <td>1353299454075</td>\n",
       "      <td>0</td>\n",
       "    </tr>\n",
       "  </tbody>\n",
       "</table>\n",
       "<p>5 rows × 27 columns</p>\n",
       "</div>"
      ],
      "text/plain": [
       "               Permit Type Block  Lot  Street Number Street Name  \\\n",
       "Permit Number                                                      \n",
       "201706300814             8  1739  020           1291        11th   \n",
       "201708165014             8  1824  006           1435        29th   \n",
       "201710110928             8  5934  020            938      Felton   \n",
       "201711274868             8  1744  039           1241        06th   \n",
       "201408254591             8  3509  029             63       Grace   \n",
       "\n",
       "              Street Suffix  \\\n",
       "Permit Number                 \n",
       "201706300814             Av   \n",
       "201708165014             Av   \n",
       "201710110928             St   \n",
       "201711274868             Av   \n",
       "201408254591             St   \n",
       "\n",
       "                                                     Description  \\\n",
       "Permit Number                                                      \n",
       "201706300814                                          re-roofing   \n",
       "201708165014                                          re-roofing   \n",
       "201710110928                                           reroofing   \n",
       "201711274868   install 6 vinyl windows size for size on back ...   \n",
       "201408254591    to comply with physical inspection report cc7777   \n",
       "\n",
       "              Current Status Current Status Date Filed Date  ...  \\\n",
       "Permit Number                                                ...   \n",
       "201706300814        complete          2017-07-12 2017-06-30  ...   \n",
       "201708165014          issued          2017-08-16 2017-08-16  ...   \n",
       "201710110928        complete          2017-10-31 2017-10-11  ...   \n",
       "201711274868          issued          2017-11-27 2017-11-27  ...   \n",
       "201408254591        complete          2017-10-04 2014-08-25  ...   \n",
       "\n",
       "              Proposed Units Plansets  Existing Construction Type  \\\n",
       "Permit Number                                                       \n",
       "201706300814             5.0      0.0                         5.0   \n",
       "201708165014             1.0      0.0                         5.0   \n",
       "201710110928             1.0      0.0                         5.0   \n",
       "201711274868             3.0      0.0                         5.0   \n",
       "201408254591             4.0      0.0                         5.0   \n",
       "\n",
       "              Proposed Construction Type  Supervisor District  \\\n",
       "Permit Number                                                   \n",
       "201706300814                         5.0                  5.0   \n",
       "201708165014                         5.0                  4.0   \n",
       "201710110928                         5.0                  9.0   \n",
       "201711274868                         5.0                  5.0   \n",
       "201408254591                         5.0                  6.0   \n",
       "\n",
       "              Neighborhoods - Analysis Boundaries  Zipcode  \\\n",
       "Permit Number                                                \n",
       "201706300814                         Inner Sunset  94122.0   \n",
       "201708165014                      Sunset/Parkside  94122.0   \n",
       "201710110928                              Portola  94134.0   \n",
       "201711274868                         Inner Sunset  94122.0   \n",
       "201408254591                      South of Market  94103.0   \n",
       "\n",
       "                                                Location      Record ID  days  \n",
       "Permit Number                                                                  \n",
       "201706300814   (37.764145640138565, -122.46875112470363)  1468970403692     0  \n",
       "201708165014     (37.76052279949518, -122.4879889739165)  1474841115935     0  \n",
       "201710110928    (37.72775517946509, -122.41419227409298)  1482932191681     0  \n",
       "201711274868    (37.76535779270799, -122.46346983597869)  1488409505430     0  \n",
       "201408254591   (37.774944547030586, -122.41443674356925)  1353299454075     0  \n",
       "\n",
       "[5 rows x 27 columns]"
      ]
     },
     "execution_count": 44,
     "metadata": {},
     "output_type": "execute_result"
    }
   ],
   "source": [
    "df.loc[df['days']== 0][:5] \n",
    "# Permit type with shortest issue time are mainly in category 8."
   ]
  },
  {
   "cell_type": "code",
   "execution_count": 47,
   "id": "dd5ba139",
   "metadata": {},
   "outputs": [
    {
     "data": {
      "image/png": "[encoded data removed]",
      "text/plain": [
       "<Figure size 1080x720 with 1 Axes>"
      ]
     },
     "metadata": {
      "needs_background": "light"
     },
     "output_type": "display_data"
    }
   ],
   "source": [
    "fig,ax = plt.subplots(figsize=(15,8))\n",
    "sns.barplot(x='Permit Type', y='days', data=df[['Permit Type', 'days']].groupby('Permit Type', as_index=False).mean());\n",
    "ax.set_title(\"Average number of date by permit type\");"
   ]
  },
  {
   "cell_type": "markdown",
   "id": "10f14bf0",
   "metadata": {},
   "source": [
    "In this type of permit, the 2nd type takes the longest amount of time."
   ]
  },
  {
   "cell_type": "code",
   "execution_count": 48,
   "id": "7f339a2a",
   "metadata": {},
   "outputs": [
    {
     "data": {
      "image/png": "[encoded data removed]",
      "text/plain": [
       "<Figure size 1080x720 with 1 Axes>"
      ]
     },
     "metadata": {
      "needs_background": "light"
     },
     "output_type": "display_data"
    }
   ],
   "source": [
    "fig,ax = plt.subplots(figsize=(15,8))\n",
    "sns.barplot(x='Proposed Construction Type', y='days', data=df[['Proposed Construction Type', 'days']].groupby('Proposed Construction Type', as_index=False).mean());\n",
    "ax.set_title(\"Average number of date by proposed construction type\");"
   ]
  },
  {
   "cell_type": "markdown",
   "id": "defb1b0b",
   "metadata": {},
   "source": [
    "In this Proposed Construction Type, the 4th type takes the longest amount of time."
   ]
  },
  {
   "cell_type": "code",
   "execution_count": 49,
   "id": "10df1d73",
   "metadata": {},
   "outputs": [
    {
     "data": {
      "image/png": "[encoded data removed]",
      "text/plain": [
       "<Figure size 1080x720 with 1 Axes>"
      ]
     },
     "metadata": {
      "needs_background": "light"
     },
     "output_type": "display_data"
    }
   ],
   "source": [
    "fig,ax = plt.subplots(figsize=(15,8P))\n",
    "sns.barplot(x='Existing Construction Type', y='days', data=df[['Existing Construction Type', 'days']].groupby('Existing Construction Type', as_index=False).mean());\n",
    "ax.set_title(\"Average number of date by existing construction type\");"
   ]
  },
  {
   "cell_type": "markdown",
   "id": "dec5f444",
   "metadata": {},
   "source": [
    "In this Existing Construction Type, the 4th type takes the longest amount of time."
   ]
  },
  {
   "cell_type": "code",
   "execution_count": 50,
   "id": "a6fcae8f",
   "metadata": {},
   "outputs": [],
   "source": [
    "df['First Construction Document Date'] = df['First Construction Document Date'].map(datetime.datetime.toordinal)\n",
    "df['Permit Expiration Date'] = df['Permit Expiration Date'].map(datetime.datetime.toordinal)\n",
    "df['Current Status Date'] = df['Current Status Date'].map(datetime.datetime.toordinal)"
   ]
  },
  {
   "cell_type": "markdown",
   "id": "262b5076",
   "metadata": {},
   "source": [
    "# Feature Selection"
   ]
  },
  {
   "cell_type": "markdown",
   "id": "36330b03",
   "metadata": {},
   "source": [
    "Dropping of Filed Date and Issued dates since they are nolonger informative in our modelling, We drop Record ID since we already have a unique record identifier, we also drop locationn since it's not so informative as we already have a supervisor district which gives us a hint on the area the building is located."
   ]
  },
  {
   "cell_type": "code",
   "execution_count": 51,
   "id": "e3141ae6",
   "metadata": {},
   "outputs": [],
   "source": [
    "df.drop(columns =['Filed Date','Issued Date','Record ID','Location','Current Status'],axis=1,inplace=True) "
   ]
  },
  {
   "cell_type": "code",
   "execution_count": 52,
   "id": "f4501b34",
   "metadata": {},
   "outputs": [
    {
     "data": {
      "text/html": [
       "<div>\n",
       "<style scoped>\n",
       "    .dataframe tbody tr th:only-of-type {\n",
       "        vertical-align: middle;\n",
       "    }\n",
       "\n",
       "    .dataframe tbody tr th {\n",
       "        vertical-align: top;\n",
       "    }\n",
       "\n",
       "    .dataframe thead th {\n",
       "        text-align: right;\n",
       "    }\n",
       "</style>\n",
       "<table border=\"1\" class=\"dataframe\">\n",
       "  <thead>\n",
       "    <tr style=\"text-align: right;\">\n",
       "      <th></th>\n",
       "      <th>Permit Type</th>\n",
       "      <th>Block</th>\n",
       "      <th>Lot</th>\n",
       "      <th>Street Number</th>\n",
       "      <th>Street Name</th>\n",
       "      <th>Street Suffix</th>\n",
       "      <th>Description</th>\n",
       "      <th>Current Status Date</th>\n",
       "      <th>First Construction Document Date</th>\n",
       "      <th>Number of Proposed Stories</th>\n",
       "      <th>...</th>\n",
       "      <th>Existing Use</th>\n",
       "      <th>Proposed Use</th>\n",
       "      <th>Proposed Units</th>\n",
       "      <th>Plansets</th>\n",
       "      <th>Existing Construction Type</th>\n",
       "      <th>Proposed Construction Type</th>\n",
       "      <th>Supervisor District</th>\n",
       "      <th>Neighborhoods - Analysis Boundaries</th>\n",
       "      <th>Zipcode</th>\n",
       "      <th>days</th>\n",
       "    </tr>\n",
       "    <tr>\n",
       "      <th>Permit Number</th>\n",
       "      <th></th>\n",
       "      <th></th>\n",
       "      <th></th>\n",
       "      <th></th>\n",
       "      <th></th>\n",
       "      <th></th>\n",
       "      <th></th>\n",
       "      <th></th>\n",
       "      <th></th>\n",
       "      <th></th>\n",
       "      <th></th>\n",
       "      <th></th>\n",
       "      <th></th>\n",
       "      <th></th>\n",
       "      <th></th>\n",
       "      <th></th>\n",
       "      <th></th>\n",
       "      <th></th>\n",
       "      <th></th>\n",
       "      <th></th>\n",
       "      <th></th>\n",
       "    </tr>\n",
       "  </thead>\n",
       "  <tbody>\n",
       "    <tr>\n",
       "      <th>201611072166</th>\n",
       "      <td>8</td>\n",
       "      <td>0156</td>\n",
       "      <td>011</td>\n",
       "      <td>1230</td>\n",
       "      <td>Pacific</td>\n",
       "      <td>Av</td>\n",
       "      <td>repair dryrot &amp; stucco at front of bldg.</td>\n",
       "      <td>736534</td>\n",
       "      <td>736528</td>\n",
       "      <td>2.0</td>\n",
       "      <td>...</td>\n",
       "      <td>1 family dwelling</td>\n",
       "      <td>1 family dwelling</td>\n",
       "      <td>1.0</td>\n",
       "      <td>2.0</td>\n",
       "      <td>5.0</td>\n",
       "      <td>5.0</td>\n",
       "      <td>3.0</td>\n",
       "      <td>Nob Hill</td>\n",
       "      <td>94109.0</td>\n",
       "      <td>253</td>\n",
       "    </tr>\n",
       "    <tr>\n",
       "      <th>201706300814</th>\n",
       "      <td>8</td>\n",
       "      <td>1739</td>\n",
       "      <td>020</td>\n",
       "      <td>1291</td>\n",
       "      <td>11th</td>\n",
       "      <td>Av</td>\n",
       "      <td>re-roofing</td>\n",
       "      <td>736522</td>\n",
       "      <td>736510</td>\n",
       "      <td>3.0</td>\n",
       "      <td>...</td>\n",
       "      <td>apartments</td>\n",
       "      <td>apartments</td>\n",
       "      <td>5.0</td>\n",
       "      <td>0.0</td>\n",
       "      <td>5.0</td>\n",
       "      <td>5.0</td>\n",
       "      <td>5.0</td>\n",
       "      <td>Inner Sunset</td>\n",
       "      <td>94122.0</td>\n",
       "      <td>0</td>\n",
       "    </tr>\n",
       "    <tr>\n",
       "      <th>201708165014</th>\n",
       "      <td>8</td>\n",
       "      <td>1824</td>\n",
       "      <td>006</td>\n",
       "      <td>1435</td>\n",
       "      <td>29th</td>\n",
       "      <td>Av</td>\n",
       "      <td>re-roofing</td>\n",
       "      <td>736557</td>\n",
       "      <td>736557</td>\n",
       "      <td>2.0</td>\n",
       "      <td>...</td>\n",
       "      <td>1 family dwelling</td>\n",
       "      <td>1 family dwelling</td>\n",
       "      <td>1.0</td>\n",
       "      <td>0.0</td>\n",
       "      <td>5.0</td>\n",
       "      <td>5.0</td>\n",
       "      <td>4.0</td>\n",
       "      <td>Sunset/Parkside</td>\n",
       "      <td>94122.0</td>\n",
       "      <td>0</td>\n",
       "    </tr>\n",
       "    <tr>\n",
       "      <th>201710110928</th>\n",
       "      <td>8</td>\n",
       "      <td>5934</td>\n",
       "      <td>020</td>\n",
       "      <td>938</td>\n",
       "      <td>Felton</td>\n",
       "      <td>St</td>\n",
       "      <td>reroofing</td>\n",
       "      <td>736633</td>\n",
       "      <td>736613</td>\n",
       "      <td>2.0</td>\n",
       "      <td>...</td>\n",
       "      <td>1 family dwelling</td>\n",
       "      <td>1 family dwelling</td>\n",
       "      <td>1.0</td>\n",
       "      <td>0.0</td>\n",
       "      <td>5.0</td>\n",
       "      <td>5.0</td>\n",
       "      <td>9.0</td>\n",
       "      <td>Portola</td>\n",
       "      <td>94134.0</td>\n",
       "      <td>0</td>\n",
       "    </tr>\n",
       "    <tr>\n",
       "      <th>201711274868</th>\n",
       "      <td>8</td>\n",
       "      <td>1744</td>\n",
       "      <td>039</td>\n",
       "      <td>1241</td>\n",
       "      <td>06th</td>\n",
       "      <td>Av</td>\n",
       "      <td>install 6 vinyl windows size for size on back ...</td>\n",
       "      <td>736660</td>\n",
       "      <td>736660</td>\n",
       "      <td>2.0</td>\n",
       "      <td>...</td>\n",
       "      <td>apartments</td>\n",
       "      <td>apartments</td>\n",
       "      <td>3.0</td>\n",
       "      <td>0.0</td>\n",
       "      <td>5.0</td>\n",
       "      <td>5.0</td>\n",
       "      <td>5.0</td>\n",
       "      <td>Inner Sunset</td>\n",
       "      <td>94122.0</td>\n",
       "      <td>0</td>\n",
       "    </tr>\n",
       "  </tbody>\n",
       "</table>\n",
       "<p>5 rows × 22 columns</p>\n",
       "</div>"
      ],
      "text/plain": [
       "               Permit Type Block  Lot  Street Number Street Name  \\\n",
       "Permit Number                                                      \n",
       "201611072166             8  0156  011           1230     Pacific   \n",
       "201706300814             8  1739  020           1291        11th   \n",
       "201708165014             8  1824  006           1435        29th   \n",
       "201710110928             8  5934  020            938      Felton   \n",
       "201711274868             8  1744  039           1241        06th   \n",
       "\n",
       "              Street Suffix  \\\n",
       "Permit Number                 \n",
       "201611072166             Av   \n",
       "201706300814             Av   \n",
       "201708165014             Av   \n",
       "201710110928             St   \n",
       "201711274868             Av   \n",
       "\n",
       "                                                     Description  \\\n",
       "Permit Number                                                      \n",
       "201611072166            repair dryrot & stucco at front of bldg.   \n",
       "201706300814                                          re-roofing   \n",
       "201708165014                                          re-roofing   \n",
       "201710110928                                           reroofing   \n",
       "201711274868   install 6 vinyl windows size for size on back ...   \n",
       "\n",
       "               Current Status Date  First Construction Document Date  \\\n",
       "Permit Number                                                          \n",
       "201611072166                736534                            736528   \n",
       "201706300814                736522                            736510   \n",
       "201708165014                736557                            736557   \n",
       "201710110928                736633                            736613   \n",
       "201711274868                736660                            736660   \n",
       "\n",
       "               Number of Proposed Stories  ...       Existing Use  \\\n",
       "Permit Number                              ...                      \n",
       "201611072166                          2.0  ...  1 family dwelling   \n",
       "201706300814                          3.0  ...         apartments   \n",
       "201708165014                          2.0  ...  1 family dwelling   \n",
       "201710110928                          2.0  ...  1 family dwelling   \n",
       "201711274868                          2.0  ...         apartments   \n",
       "\n",
       "                    Proposed Use Proposed Units Plansets  \\\n",
       "Permit Number                                              \n",
       "201611072166   1 family dwelling            1.0      2.0   \n",
       "201706300814          apartments            5.0      0.0   \n",
       "201708165014   1 family dwelling            1.0      0.0   \n",
       "201710110928   1 family dwelling            1.0      0.0   \n",
       "201711274868          apartments            3.0      0.0   \n",
       "\n",
       "               Existing Construction Type  Proposed Construction Type  \\\n",
       "Permit Number                                                           \n",
       "201611072166                          5.0                         5.0   \n",
       "201706300814                          5.0                         5.0   \n",
       "201708165014                          5.0                         5.0   \n",
       "201710110928                          5.0                         5.0   \n",
       "201711274868                          5.0                         5.0   \n",
       "\n",
       "               Supervisor District  Neighborhoods - Analysis Boundaries  \\\n",
       "Permit Number                                                             \n",
       "201611072166                   3.0                             Nob Hill   \n",
       "201706300814                   5.0                         Inner Sunset   \n",
       "201708165014                   4.0                      Sunset/Parkside   \n",
       "201710110928                   9.0                              Portola   \n",
       "201711274868                   5.0                         Inner Sunset   \n",
       "\n",
       "               Zipcode days  \n",
       "Permit Number                \n",
       "201611072166   94109.0  253  \n",
       "201706300814   94122.0    0  \n",
       "201708165014   94122.0    0  \n",
       "201710110928   94134.0    0  \n",
       "201711274868   94122.0    0  \n",
       "\n",
       "[5 rows x 22 columns]"
      ]
     },
     "execution_count": 52,
     "metadata": {},
     "output_type": "execute_result"
    }
   ],
   "source": [
    "df.head()"
   ]
  },
  {
   "cell_type": "code",
   "execution_count": 53,
   "id": "1e7e1097",
   "metadata": {},
   "outputs": [],
   "source": [
    "numerical = [i for i in df.drop(['days'],axis=1).columns \n",
    "                  if df.drop(['days'],axis=1)[i].dtype in ['int64', 'float64']]"
   ]
  },
  {
   "cell_type": "code",
   "execution_count": 54,
   "id": "10dc3101",
   "metadata": {},
   "outputs": [],
   "source": [
    "categorical = [cname for cname in df.columns \n",
    "                    if df[cname].nunique() < 15 and df[cname].dtype == \"object\"]"
   ]
  },
  {
   "cell_type": "code",
   "execution_count": 55,
   "id": "7d438eb3",
   "metadata": {
    "scrolled": true
   },
   "outputs": [],
   "source": [
    "features = [*numerical, *categorical]"
   ]
  },
  {
   "cell_type": "code",
   "execution_count": 56,
   "id": "40f1bbdb",
   "metadata": {},
   "outputs": [
    {
     "data": {
      "text/plain": [
       "['Permit Type',\n",
       " 'Street Number',\n",
       " 'Current Status Date',\n",
       " 'First Construction Document Date',\n",
       " 'Number of Proposed Stories',\n",
       " 'Permit Expiration Date',\n",
       " 'Revised Cost',\n",
       " 'Proposed Units',\n",
       " 'Plansets',\n",
       " 'Existing Construction Type',\n",
       " 'Proposed Construction Type',\n",
       " 'Supervisor District',\n",
       " 'Zipcode']"
      ]
     },
     "execution_count": 56,
     "metadata": {},
     "output_type": "execute_result"
    }
   ],
   "source": [
    "features"
   ]
  },
  {
   "cell_type": "code",
   "execution_count": 57,
   "id": "8e2d0d52",
   "metadata": {},
   "outputs": [
    {
     "data": {
      "text/plain": [
       "Permit Type                        -5.440356\n",
       "Street Number                       1.429083\n",
       "Current Status Date                -0.159912\n",
       "First Construction Document Date    0.013986\n",
       "Number of Proposed Stories          4.328722\n",
       "Permit Expiration Date             -0.087993\n",
       "Revised Cost                        1.660105\n",
       "Proposed Units                      1.607884\n",
       "Plansets                            0.092601\n",
       "Existing Construction Type         -2.104674\n",
       "Proposed Construction Type         -2.093813\n",
       "Supervisor District                -0.050722\n",
       "Zipcode                             0.559903\n",
       "dtype: float64"
      ]
     },
     "execution_count": 57,
     "metadata": {},
     "output_type": "execute_result"
    }
   ],
   "source": [
    "scaler = StandardScaler()\n",
    "df[features] = scaler.fit_transform(df[features] )\n",
    "\n",
    "#The code below shows that the numerical columns have minimum skewness.\n",
    "df[features].skew(axis=0)"
   ]
  },
  {
   "cell_type": "markdown",
   "id": "a46ac632",
   "metadata": {},
   "source": [
    "# ML"
   ]
  },
  {
   "cell_type": "code",
   "execution_count": 58,
   "id": "1c38d95e",
   "metadata": {},
   "outputs": [],
   "source": [
    "y = df[['days']]\n",
    "X = df[features]"
   ]
  },
  {
   "cell_type": "code",
   "execution_count": 59,
   "id": "8f05ef4d",
   "metadata": {},
   "outputs": [],
   "source": [
    "X_train, X_test, y_train, y_test = train_test_split(X,y,test_size=0.25,random_state=7)"
   ]
  },
  {
   "cell_type": "markdown",
   "id": "f9d7a3ad",
   "metadata": {},
   "source": [
    "### Forward Stepwise Selection"
   ]
  },
  {
   "cell_type": "code",
   "execution_count": 60,
   "id": "652c40d7",
   "metadata": {},
   "outputs": [],
   "source": [
    "def forward_stepwise_selection(data, target):\n",
    "    total_features = [[]]\n",
    "    score_dict = {}\n",
    "    remaining_features = [col for col in data.columns]\n",
    "    for i in range(1, len(data.columns)):\n",
    "        best_score = 0; best_feature = None\n",
    "        for feature in remaining_features:\n",
    "\n",
    "            X = total_features[i-1] + [feature]\n",
    "            model = LinearRegression().fit(data[X], target)\n",
    "            score = r2_score(target, model.predict(data[X]))\n",
    "\n",
    "            if score > best_score:\n",
    "                best_score = score\n",
    "                best_feature = feature\n",
    "        total_features.append(total_features[i-1] + [best_feature])\n",
    "        remaining_features.remove(best_feature)\n",
    "        score_dict[i] = best_score\n",
    "    return total_features,score_dict"
   ]
  },
  {
   "cell_type": "code",
   "execution_count": 61,
   "id": "472135ef",
   "metadata": {},
   "outputs": [],
   "source": [
    "total_features_fwd, score_dict_fwd = forward_stepwise_selection(X, y)"
   ]
  },
  {
   "cell_type": "code",
   "execution_count": 62,
   "id": "cfcf4b92",
   "metadata": {
    "scrolled": false
   },
   "outputs": [
    {
     "name": "stdout",
     "output_type": "stream",
     "text": [
      "The best model with 1 features - ['Permit Type']\n",
      "R_2 score is  0.34155772946580953\n",
      "\n",
      "The best model with 2 features - ['Permit Type', 'Plansets']\n",
      "R_2 score is  0.36438222640307094\n",
      "\n",
      "The best model with 3 features - ['Permit Type', 'Plansets', 'Permit Expiration Date']\n",
      "R_2 score is  0.3719424901380767\n",
      "\n",
      "The best model with 4 features - ['Permit Type', 'Plansets', 'Permit Expiration Date', 'Proposed Construction Type']\n",
      "R_2 score is  0.3784646462823673\n",
      "\n",
      "The best model with 5 features - ['Permit Type', 'Plansets', 'Permit Expiration Date', 'Proposed Construction Type', 'Revised Cost']\n",
      "R_2 score is  0.38336438796273886\n",
      "\n",
      "The best model with 6 features - ['Permit Type', 'Plansets', 'Permit Expiration Date', 'Proposed Construction Type', 'Revised Cost', 'Proposed Units']\n",
      "R_2 score is  0.384736047170421\n",
      "\n",
      "The best model with 7 features - ['Permit Type', 'Plansets', 'Permit Expiration Date', 'Proposed Construction Type', 'Revised Cost', 'Proposed Units', 'Number of Proposed Stories']\n",
      "R_2 score is  0.38501662942164727\n",
      "\n",
      "The best model with 8 features - ['Permit Type', 'Plansets', 'Permit Expiration Date', 'Proposed Construction Type', 'Revised Cost', 'Proposed Units', 'Number of Proposed Stories', 'Current Status Date']\n",
      "R_2 score is  0.38525615632713484\n",
      "\n",
      "The best model with 9 features - ['Permit Type', 'Plansets', 'Permit Expiration Date', 'Proposed Construction Type', 'Revised Cost', 'Proposed Units', 'Number of Proposed Stories', 'Current Status Date', 'Supervisor District']\n",
      "R_2 score is  0.38530232698543354\n",
      "\n",
      "The best model with 10 features - ['Permit Type', 'Plansets', 'Permit Expiration Date', 'Proposed Construction Type', 'Revised Cost', 'Proposed Units', 'Number of Proposed Stories', 'Current Status Date', 'Supervisor District', 'Street Number']\n",
      "R_2 score is  0.3853243022996802\n",
      "\n",
      "The best model with 11 features - ['Permit Type', 'Plansets', 'Permit Expiration Date', 'Proposed Construction Type', 'Revised Cost', 'Proposed Units', 'Number of Proposed Stories', 'Current Status Date', 'Supervisor District', 'Street Number', 'First Construction Document Date']\n",
      "R_2 score is  0.3853276657052318\n",
      "\n",
      "The best model with 12 features - ['Permit Type', 'Plansets', 'Permit Expiration Date', 'Proposed Construction Type', 'Revised Cost', 'Proposed Units', 'Number of Proposed Stories', 'Current Status Date', 'Supervisor District', 'Street Number', 'First Construction Document Date', 'Zipcode']\n",
      "R_2 score is  0.3853305955840908\n",
      "\n"
     ]
    }
   ],
   "source": [
    "for i in range(1, 13):\n",
    "    print('The best model with {} features - {}'.format(i,total_features_fwd[i]))\n",
    "    print('R_2 score is ',score_dict_fwd[i])\n",
    "    print()"
   ]
  },
  {
   "cell_type": "code",
   "execution_count": 63,
   "id": "975f395e",
   "metadata": {},
   "outputs": [],
   "source": [
    "adj_R2_score = {}\n",
    "for features in total_features_fwd[1:]:\n",
    "    model = LinearRegression()\n",
    "    model.fit(X_train[features], y_train)\n",
    "    score = r2_score(model.predict(X_test[features]), y_test) \n",
    "    p = len(features)\n",
    "    n = len(X_train)\n",
    "    adj_r2 = 1-(1-score)*(n-1)/(n-p-1)\n",
    "    adj_R2_score[len(features)] = adj_r2"
   ]
  },
  {
   "cell_type": "code",
   "execution_count": 64,
   "id": "129e8224",
   "metadata": {
    "scrolled": false
   },
   "outputs": [
    {
     "name": "stderr",
     "output_type": "stream",
     "text": [
      "/opt/anaconda3/lib/python3.8/site-packages/seaborn/_decorators.py:36: FutureWarning: Pass the following variables as keyword args: x, y. From version 0.12, the only valid positional argument will be `data`, and passing other arguments without an explicit keyword will result in an error or misinterpretation.\n",
      "  warnings.warn(\n"
     ]
    },
    {
     "data": {
      "image/png": "[encoded data removed]",
      "text/plain": [
       "<Figure size 432x288 with 1 Axes>"
      ]
     },
     "metadata": {
      "needs_background": "light"
     },
     "output_type": "display_data"
    }
   ],
   "source": [
    "sns.lineplot(np.arange(1,len(total_features_fwd)),list(adj_R2_score.values()))\n",
    "plt.xlabel('Number of Features')\n",
    "plt.ylabel('Adj_R2_values')\n",
    "plt.title('ADJUSTED R2 VALUES');"
   ]
  },
  {
   "cell_type": "code",
   "execution_count": 65,
   "id": "fcdae47d",
   "metadata": {},
   "outputs": [
    {
     "data": {
      "text/plain": [
       "10"
      ]
     },
     "execution_count": 65,
     "metadata": {},
     "output_type": "execute_result"
    }
   ],
   "source": [
    "max(adj_R2_score.items(), key=operator.itemgetter(1))[0]"
   ]
  },
  {
   "cell_type": "markdown",
   "id": "14100c07",
   "metadata": {},
   "source": [
    "### Linear Regression"
   ]
  },
  {
   "cell_type": "code",
   "execution_count": 66,
   "id": "c939a75b",
   "metadata": {},
   "outputs": [
    {
     "data": {
      "text/plain": [
       "LinearRegression()"
      ]
     },
     "execution_count": 66,
     "metadata": {},
     "output_type": "execute_result"
    }
   ],
   "source": [
    "reg = LinearRegression()\n",
    "reg.fit(X_train, y_train)"
   ]
  },
  {
   "cell_type": "code",
   "execution_count": 95,
   "id": "3061c090",
   "metadata": {
    "scrolled": false
   },
   "outputs": [
    {
     "name": "stdout",
     "output_type": "stream",
     "text": [
      "Test:\n",
      "R-squared 0.402\n",
      "MSE: 2614.571\n",
      "RMSE: 51.133\n",
      "MAE: 19.459\n",
      "\n",
      "Train:\n",
      "R-squared 0.379\n",
      "MSE: 2680.174\n",
      "RMSE: 51.77\n",
      "MAE: 19.674\n"
     ]
    }
   ],
   "source": [
    "# For convenience let's create a function for all metrics at the same time\n",
    "\n",
    "\n",
    "mse_list=[]\n",
    "rmse_list=[]\n",
    "mae_list=[]\n",
    "r2_list=[]\n",
    "\n",
    "def print_evaluate(true, predicted, add):  \n",
    "    r2_square = metrics.r2_score(true, predicted)\n",
    "    mse = metrics.mean_squared_error(true, predicted)\n",
    "    rmse = np.sqrt(metrics.mean_squared_error(true, predicted))\n",
    "    mae = metrics.mean_absolute_error(true, predicted)\n",
    "    print('R-squared', np.round(r2_square,3))\n",
    "    print('MSE:', np.round(mse,3))\n",
    "    print('RMSE:', np.round(rmse,3))\n",
    "    print('MAE:', np.round(mae,3))\n",
    "    \n",
    "    if add==True:\n",
    "        r2_list.append(np.round(r2_square,3))\n",
    "        mse_list.append(np.round(mse,3))\n",
    "        rmse_list.append(np.round(rmse,3))\n",
    "        mae_list.append(np.round(mae,3))\n",
    "\n",
    "print('Test:')    \n",
    "print_evaluate(y_test, reg.predict(X_test), False)\n",
    "\n",
    "print('\\nTrain:')    \n",
    "print_evaluate(y_train, reg.predict(X_train), False)"
   ]
  },
  {
   "cell_type": "markdown",
   "id": "46d57951",
   "metadata": {},
   "source": [
    "#### Gridsearch, cross-validation"
   ]
  },
  {
   "cell_type": "code",
   "execution_count": 68,
   "id": "c93f8a61",
   "metadata": {},
   "outputs": [
    {
     "name": "stdout",
     "output_type": "stream",
     "text": [
      "Fitting 5 folds for each of 14 candidates, totalling 70 fits\n"
     ]
    },
    {
     "data": {
      "text/plain": [
       "GridSearchCV(cv=KFold(n_splits=5, random_state=100, shuffle=True),\n",
       "             estimator=RFE(estimator=LinearRegression()),\n",
       "             param_grid=[{'n_features_to_select': [1, 2, 3, 4, 5, 6, 7, 8, 9,\n",
       "                                                   10, 11, 12, 13, 14]}],\n",
       "             return_train_score=True, scoring='r2', verbose=1)"
      ]
     },
     "execution_count": 68,
     "metadata": {},
     "output_type": "execute_result"
    }
   ],
   "source": [
    "from sklearn.feature_selection import RFE\n",
    "from sklearn.model_selection import GridSearchCV\n",
    "\n",
    "# create a cross-validation scheme\n",
    "folds = KFold(n_splits = 5, shuffle = True, random_state = 100)\n",
    "\n",
    "# specify range of hyperparameters to tune\n",
    "hyper_params = [{'n_features_to_select': list(range(1, 15))}]\n",
    "\n",
    "\n",
    "# grid search:\n",
    "model_cv = GridSearchCV(estimator = RFE(reg), \n",
    "                        param_grid = hyper_params, \n",
    "                        scoring= 'r2', \n",
    "                        cv = folds, \n",
    "                        verbose = 1,\n",
    "                        return_train_score=True)      \n",
    "\n",
    "# fit the model\n",
    "model_cv.fit(X_train, y_train)  "
   ]
  },
  {
   "cell_type": "code",
   "execution_count": 69,
   "id": "0be9b021",
   "metadata": {},
   "outputs": [
    {
     "data": {
      "text/plain": [
       "<matplotlib.legend.Legend at 0x12091adf0>"
      ]
     },
     "execution_count": 69,
     "metadata": {},
     "output_type": "execute_result"
    },
    {
     "data": {
      "image/png": "[encoded data removed]",
      "text/plain": [
       "<Figure size 1152x432 with 1 Axes>"
      ]
     },
     "metadata": {
      "needs_background": "light"
     },
     "output_type": "display_data"
    }
   ],
   "source": [
    "# plotting cv results\n",
    "cv_results = pd.DataFrame(model_cv.cv_results_)\n",
    "plt.figure(figsize=(16,6))\n",
    "\n",
    "plt.plot(cv_results[\"param_n_features_to_select\"], cv_results[\"mean_test_score\"])\n",
    "plt.plot(cv_results[\"param_n_features_to_select\"], cv_results[\"mean_train_score\"])\n",
    "plt.xlabel('number of features')\n",
    "plt.ylabel('r-squared')\n",
    "plt.title(\"Optimal Number of Features\")\n",
    "plt.legend(['test score', 'train score'], loc='upper left')"
   ]
  },
  {
   "cell_type": "code",
   "execution_count": 70,
   "id": "c772d4dc",
   "metadata": {},
   "outputs": [
    {
     "data": {
      "text/plain": [
       "{'n_features_to_select': 10}"
      ]
     },
     "execution_count": 70,
     "metadata": {},
     "output_type": "execute_result"
    }
   ],
   "source": [
    "model_cv.best_params_"
   ]
  },
  {
   "cell_type": "code",
   "execution_count": 96,
   "id": "8ad6564b",
   "metadata": {},
   "outputs": [
    {
     "name": "stdout",
     "output_type": "stream",
     "text": [
      "Test:\n",
      "R-squared 0.402\n",
      "MSE: 2614.695\n",
      "RMSE: 51.134\n",
      "MAE: 19.457\n",
      "\n",
      "Train:\n",
      "R-squared 0.379\n",
      "MSE: 2680.277\n",
      "RMSE: 51.771\n",
      "MAE: 19.672\n"
     ]
    }
   ],
   "source": [
    "# final model\n",
    "reg = LinearRegression()\n",
    "reg.fit(X_train, y_train)\n",
    "\n",
    "rfe = RFE(reg, n_features_to_select = 10)             \n",
    "rfe.fit(X_train, y_train)\n",
    "\n",
    "print('Test:')    \n",
    "print_evaluate(y_test, rfe.predict(X_test), True)\n",
    "\n",
    "print('\\nTrain:')    \n",
    "print_evaluate(y_train, rfe.predict(X_train), False)"
   ]
  },
  {
   "cell_type": "markdown",
   "id": "6b6688a6",
   "metadata": {},
   "source": [
    "### kNN"
   ]
  },
  {
   "cell_type": "code",
   "execution_count": 72,
   "id": "6eda5e99",
   "metadata": {},
   "outputs": [
    {
     "name": "stdout",
     "output_type": "stream",
     "text": [
      "Test:\n",
      "R-squared 0.401\n",
      "MSE: 2619.13\n",
      "RMSE: 51.177\n",
      "MAE: 16.772\n",
      "\n",
      "Train:\n",
      "R-squared 0.593\n",
      "MSE: 1759.072\n",
      "RMSE: 41.941\n",
      "MAE: 13.53\n"
     ]
    }
   ],
   "source": [
    "knn = KNeighborsRegressor()\n",
    "knn.fit(X_train, y_train)\n",
    "\n",
    "\n",
    "print('Test:')    \n",
    "print_evaluate(y_test, knn.predict(X_test), False)\n",
    "\n",
    "print('\\nTrain:')    \n",
    "print_evaluate(y_train,knn.predict(X_train), False)"
   ]
  },
  {
   "cell_type": "markdown",
   "id": "c35d7a55",
   "metadata": {},
   "source": [
    "#### Gridsearch, cross-validation"
   ]
  },
  {
   "cell_type": "code",
   "execution_count": 73,
   "id": "36e8519f",
   "metadata": {},
   "outputs": [
    {
     "data": {
      "text/plain": [
       "{'n_neighbors': 45}"
      ]
     },
     "execution_count": 73,
     "metadata": {},
     "output_type": "execute_result"
    }
   ],
   "source": [
    "#params = {'n_neighbors':[3,5,7,9, 15, 17 ,35, 37, 39 ,41, 43, 45, 47, 49,51]}\n",
    "params = {'n_neighbors':[41, 43, 45, 47]}\n",
    "\n",
    "# knn = neighbors.KNeighborsRegressor()\n",
    "model = GridSearchCV(knn, params, cv=5)\n",
    "model.fit(X_train,y_train)\n",
    "model.best_params_"
   ]
  },
  {
   "cell_type": "code",
   "execution_count": 97,
   "id": "6804e818",
   "metadata": {},
   "outputs": [
    {
     "name": "stdout",
     "output_type": "stream",
     "text": [
      "Test:\n",
      "R-squared 0.442\n",
      "MSE: 2442.189\n",
      "RMSE: 49.419\n",
      "MAE: 16.56\n",
      "\n",
      "Train:\n",
      "R-squared 0.446\n",
      "MSE: 2391.955\n",
      "RMSE: 48.908\n",
      "MAE: 16.287\n"
     ]
    }
   ],
   "source": [
    "knn = KNeighborsRegressor(n_neighbors=45)\n",
    "knn.fit(X_train, y_train)\n",
    "\n",
    "\n",
    "print('Test:')    \n",
    "print_evaluate(y_test, knn.predict(X_test), True)\n",
    "\n",
    "print('\\nTrain:')    \n",
    "print_evaluate(y_train,knn.predict(X_train), False)"
   ]
  },
  {
   "cell_type": "markdown",
   "id": "9295fe53",
   "metadata": {},
   "source": [
    "### Random Forest"
   ]
  },
  {
   "cell_type": "code",
   "execution_count": 75,
   "id": "a2c9f23c",
   "metadata": {},
   "outputs": [
    {
     "name": "stderr",
     "output_type": "stream",
     "text": [
      "<ipython-input-75-1c6c56a33014>:2: DataConversionWarning: A column-vector y was passed when a 1d array was expected. Please change the shape of y to (n_samples,), for example using ravel().\n",
      "  random_forest.fit(X_train, y_train)\n"
     ]
    },
    {
     "name": "stdout",
     "output_type": "stream",
     "text": [
      "Test:\n",
      "R-squared 0.526\n",
      "MSE: 2072.336\n",
      "RMSE: 45.523\n",
      "MAE: 15.185\n",
      "\n",
      "Train:\n",
      "R-squared 0.933\n",
      "MSE: 290.378\n",
      "RMSE: 17.04\n",
      "MAE: 5.707\n"
     ]
    }
   ],
   "source": [
    "random_forest = RandomForestRegressor()\n",
    "random_forest.fit(X_train, y_train)\n",
    "\n",
    "\n",
    "print('Test:')    \n",
    "print_evaluate(y_test, random_forest.predict(X_test), False)\n",
    "\n",
    "print('\\nTrain:')    \n",
    "print_evaluate(y_train,random_forest.predict(X_train), False)"
   ]
  },
  {
   "cell_type": "markdown",
   "id": "ad1193b0",
   "metadata": {},
   "source": [
    "#### Gridsearch, cross-validation"
   ]
  },
  {
   "cell_type": "code",
   "execution_count": 76,
   "id": "b945728d",
   "metadata": {},
   "outputs": [
    {
     "name": "stderr",
     "output_type": "stream",
     "text": [
      "/opt/anaconda3/lib/python3.8/site-packages/sklearn/model_selection/_search.py:880: DataConversionWarning: A column-vector y was passed when a 1d array was expected. Please change the shape of y to (n_samples,), for example using ravel().\n",
      "  self.best_estimator_.fit(X, y, **fit_params)\n"
     ]
    },
    {
     "data": {
      "text/plain": [
       "GridSearchCV(cv=5, estimator=RandomForestRegressor(), n_jobs=-1,\n",
       "             param_grid={'max_depth': range(5, 8),\n",
       "                         'max_features': [7, 8, 9, 10],\n",
       "                         'n_estimators': [10, 100, 200]},\n",
       "             scoring='neg_mean_squared_error')"
      ]
     },
     "execution_count": 76,
     "metadata": {},
     "output_type": "execute_result"
    }
   ],
   "source": [
    "param_grid = {\n",
    "            'max_depth': range(5,8),\n",
    "            'n_estimators': [10, 100, 200],\n",
    "            'max_features': [7,8,9,10]\n",
    "            \n",
    "}\n",
    "\n",
    "rfc_gs = GridSearchCV(estimator=RandomForestRegressor(),\n",
    "                      param_grid=param_grid, cv=5, \n",
    "                      scoring='neg_mean_squared_error', verbose=0, n_jobs=-1)\n",
    "\n",
    "rfc_gs.fit(X, y)"
   ]
  },
  {
   "cell_type": "code",
   "execution_count": 77,
   "id": "95ae233f",
   "metadata": {},
   "outputs": [
    {
     "data": {
      "text/plain": [
       "{'max_depth': 5, 'max_features': 7, 'n_estimators': 200}"
      ]
     },
     "execution_count": 77,
     "metadata": {},
     "output_type": "execute_result"
    }
   ],
   "source": [
    "rfc_gs.best_params_"
   ]
  },
  {
   "cell_type": "code",
   "execution_count": 98,
   "id": "a399e588",
   "metadata": {},
   "outputs": [
    {
     "name": "stderr",
     "output_type": "stream",
     "text": [
      "<ipython-input-98-a7591935d3d0>:2: DataConversionWarning: A column-vector y was passed when a 1d array was expected. Please change the shape of y to (n_samples,), for example using ravel().\n",
      "  random_forest.fit(X_train, y_train)\n"
     ]
    },
    {
     "name": "stdout",
     "output_type": "stream",
     "text": [
      "Test:\n",
      "R-squared 0.45\n",
      "MSE: 2407.924\n",
      "RMSE: 49.071\n",
      "MAE: 16.602\n",
      "\n",
      "Train:\n",
      "R-squared 0.443\n",
      "MSE: 2407.236\n",
      "RMSE: 49.064\n",
      "MAE: 16.611\n"
     ]
    }
   ],
   "source": [
    "random_forest = RandomForestRegressor(max_depth=5, max_features=7, n_estimators=200, verbose=False)\n",
    "random_forest.fit(X_train, y_train)\n",
    "\n",
    "print('Test:')    \n",
    "print_evaluate(y_test, random_forest.predict(X_test), True)\n",
    "\n",
    "print('\\nTrain:')    \n",
    "print_evaluate(y_train,random_forest.predict(X_train), False)"
   ]
  },
  {
   "cell_type": "markdown",
   "id": "10bd68c3",
   "metadata": {},
   "source": [
    "### Ridge Regression "
   ]
  },
  {
   "cell_type": "code",
   "execution_count": 99,
   "id": "731371a3",
   "metadata": {},
   "outputs": [
    {
     "data": {
      "text/plain": [
       "(100, 1, 13)"
      ]
     },
     "execution_count": 99,
     "metadata": {},
     "output_type": "execute_result"
    }
   ],
   "source": [
    "alphas = 10**np.linspace(10, -2, 100) * 0.5\n",
    "\n",
    "ridge = Ridge(normalize=False)\n",
    "coefs = []\n",
    "\n",
    "for a in alphas:\n",
    "    ridge.set_params(alpha=a)\n",
    "    ridge.fit(X_train, y_train)\n",
    "    coefs.append(ridge.coef_)\n",
    "    \n",
    "np.shape(coefs)"
   ]
  },
  {
   "cell_type": "code",
   "execution_count": 100,
   "id": "5e7c179f",
   "metadata": {
    "scrolled": true
   },
   "outputs": [
    {
     "data": {
      "text/plain": [
       "RidgeCV(alphas=array([5.00000000e+09, 3.78231664e+09, 2.86118383e+09, 2.16438064e+09,\n",
       "       1.63727458e+09, 1.23853818e+09, 9.36908711e+08, 7.08737081e+08,\n",
       "       5.36133611e+08, 4.05565415e+08, 3.06795364e+08, 2.32079442e+08,\n",
       "       1.75559587e+08, 1.32804389e+08, 1.00461650e+08, 7.59955541e+07,\n",
       "       5.74878498e+07, 4.34874501e+07, 3.28966612e+07, 2.48851178e+07,\n",
       "       1.88246790e+07, 1.42401793e+0...\n",
       "       3.06795364e+00, 2.32079442e+00, 1.75559587e+00, 1.32804389e+00,\n",
       "       1.00461650e+00, 7.59955541e-01, 5.74878498e-01, 4.34874501e-01,\n",
       "       3.28966612e-01, 2.48851178e-01, 1.88246790e-01, 1.42401793e-01,\n",
       "       1.07721735e-01, 8.14875417e-02, 6.16423370e-02, 4.66301673e-02,\n",
       "       3.52740116e-02, 2.66834962e-02, 2.01850863e-02, 1.52692775e-02,\n",
       "       1.15506485e-02, 8.73764200e-03, 6.60970574e-03, 5.00000000e-03]),\n",
       "        scoring='neg_mean_squared_error')"
      ]
     },
     "execution_count": 100,
     "metadata": {},
     "output_type": "execute_result"
    }
   ],
   "source": [
    "ridgecv = RidgeCV(alphas=alphas, scoring='neg_mean_squared_error')\n",
    "ridgecv.fit(scale(X_train), y_train)"
   ]
  },
  {
   "cell_type": "code",
   "execution_count": 101,
   "id": "f98c745a",
   "metadata": {},
   "outputs": [
    {
     "data": {
      "text/plain": [
       "266.8349615603151"
      ]
     },
     "execution_count": 101,
     "metadata": {},
     "output_type": "execute_result"
    }
   ],
   "source": [
    "ridgecv.alpha_"
   ]
  },
  {
   "cell_type": "code",
   "execution_count": 102,
   "id": "6651b01e",
   "metadata": {
    "scrolled": true
   },
   "outputs": [
    {
     "name": "stdout",
     "output_type": "stream",
     "text": [
      "Test:\n",
      "R-squared 0.402\n",
      "MSE: 2617.808\n",
      "RMSE: 51.165\n",
      "MAE: 19.338\n",
      "\n",
      "Train:\n",
      "R-squared 0.379\n",
      "MSE: 2680.212\n",
      "RMSE: 51.771\n",
      "MAE: 19.666\n"
     ]
    }
   ],
   "source": [
    "ridge.set_params(alpha=ridgecv.alpha_)\n",
    "ridge.fit(scale(X_train), y_train)\n",
    "\n",
    "print('Test:')    \n",
    "print_evaluate(y_test, ridge.predict(scale(X_test)), True)\n",
    "\n",
    "print('\\nTrain:')    \n",
    "print_evaluate(y_train, ridge.predict(scale(X_train)), False)"
   ]
  },
  {
   "cell_type": "markdown",
   "id": "2e9cd6d0",
   "metadata": {},
   "source": [
    "### The Lasso"
   ]
  },
  {
   "cell_type": "code",
   "execution_count": 103,
   "id": "8a188951",
   "metadata": {},
   "outputs": [],
   "source": [
    "lasso = Lasso(max_iter=10000)\n",
    "coefs = []\n",
    "\n",
    "for a in alphas*2:\n",
    "    lasso.set_params(alpha=a)\n",
    "    lasso.fit(scale(X_train), y_train)\n",
    "    coefs.append(lasso.coef_)\n",
    "    mean_squared_error(y_test, lasso.predict(scale(X_test)))"
   ]
  },
  {
   "cell_type": "code",
   "execution_count": 104,
   "id": "9130a848",
   "metadata": {},
   "outputs": [
    {
     "data": {
      "text/plain": [
       "LassoCV(alphas=array([5.00000000e+09, 3.78231664e+09, 2.86118383e+09, 2.16438064e+09,\n",
       "       1.63727458e+09, 1.23853818e+09, 9.36908711e+08, 7.08737081e+08,\n",
       "       5.36133611e+08, 4.05565415e+08, 3.06795364e+08, 2.32079442e+08,\n",
       "       1.75559587e+08, 1.32804389e+08, 1.00461650e+08, 7.59955541e+07,\n",
       "       5.74878498e+07, 4.34874501e+07, 3.28966612e+07, 2.48851178e+07,\n",
       "       1.88246790e+07, 1.42401793e+0...\n",
       "       3.06795364e+00, 2.32079442e+00, 1.75559587e+00, 1.32804389e+00,\n",
       "       1.00461650e+00, 7.59955541e-01, 5.74878498e-01, 4.34874501e-01,\n",
       "       3.28966612e-01, 2.48851178e-01, 1.88246790e-01, 1.42401793e-01,\n",
       "       1.07721735e-01, 8.14875417e-02, 6.16423370e-02, 4.66301673e-02,\n",
       "       3.52740116e-02, 2.66834962e-02, 2.01850863e-02, 1.52692775e-02,\n",
       "       1.15506485e-02, 8.73764200e-03, 6.60970574e-03, 5.00000000e-03]),\n",
       "        cv=10, max_iter=10000)"
      ]
     },
     "execution_count": 104,
     "metadata": {},
     "output_type": "execute_result"
    }
   ],
   "source": [
    "lassocv = LassoCV(alphas=alphas, cv=10, max_iter=10000)\n",
    "lassocv.fit(scale(X_train), y_train.values.ravel())"
   ]
  },
  {
   "cell_type": "code",
   "execution_count": 105,
   "id": "0f7b7e52",
   "metadata": {
    "scrolled": true
   },
   "outputs": [
    {
     "data": {
      "text/plain": [
       "0.015269277544167062"
      ]
     },
     "execution_count": 105,
     "metadata": {},
     "output_type": "execute_result"
    }
   ],
   "source": [
    "lassocv.alpha_"
   ]
  },
  {
   "cell_type": "code",
   "execution_count": 106,
   "id": "efbaf7b8",
   "metadata": {},
   "outputs": [
    {
     "name": "stdout",
     "output_type": "stream",
     "text": [
      "Test:\n",
      "R-squared 0.402\n",
      "MSE: 2617.301\n",
      "RMSE: 51.16\n",
      "MAE: 19.333\n",
      "\n",
      "Train:\n",
      "R-squared 0.379\n",
      "MSE: 2680.185\n",
      "RMSE: 51.771\n",
      "MAE: 19.662\n"
     ]
    }
   ],
   "source": [
    "lasso.set_params(alpha=lassocv.alpha_)\n",
    "lasso.fit(scale(X_train), y_train)\n",
    "\n",
    "print('Test:')    \n",
    "print_evaluate(y_test, lasso.predict(scale(X_test)), True)\n",
    "\n",
    "print('\\nTrain:')    \n",
    "print_evaluate(y_train, lasso.predict(scale(X_train)), False)"
   ]
  },
  {
   "cell_type": "markdown",
   "id": "241c77a7",
   "metadata": {},
   "source": [
    "# Conclusion"
   ]
  },
  {
   "cell_type": "code",
   "execution_count": 107,
   "id": "56c3388b",
   "metadata": {},
   "outputs": [
    {
     "data": {
      "text/html": [
       "<div>\n",
       "<style scoped>\n",
       "    .dataframe tbody tr th:only-of-type {\n",
       "        vertical-align: middle;\n",
       "    }\n",
       "\n",
       "    .dataframe tbody tr th {\n",
       "        vertical-align: top;\n",
       "    }\n",
       "\n",
       "    .dataframe thead th {\n",
       "        text-align: right;\n",
       "    }\n",
       "</style>\n",
       "<table border=\"1\" class=\"dataframe\">\n",
       "  <thead>\n",
       "    <tr style=\"text-align: right;\">\n",
       "      <th></th>\n",
       "      <th>MSE</th>\n",
       "      <th>RMSE</th>\n",
       "      <th>MAE</th>\n",
       "      <th>R-squared</th>\n",
       "    </tr>\n",
       "  </thead>\n",
       "  <tbody>\n",
       "    <tr>\n",
       "      <th>Linear Regression</th>\n",
       "      <td>2614.695</td>\n",
       "      <td>51.134</td>\n",
       "      <td>19.457</td>\n",
       "      <td>0.402</td>\n",
       "    </tr>\n",
       "    <tr>\n",
       "      <th>kNN</th>\n",
       "      <td>2442.189</td>\n",
       "      <td>49.419</td>\n",
       "      <td>16.560</td>\n",
       "      <td>0.442</td>\n",
       "    </tr>\n",
       "    <tr>\n",
       "      <th>Random Forest Regressor</th>\n",
       "      <td>2407.924</td>\n",
       "      <td>49.071</td>\n",
       "      <td>16.602</td>\n",
       "      <td>0.450</td>\n",
       "    </tr>\n",
       "    <tr>\n",
       "      <th>Ridge Regression</th>\n",
       "      <td>2617.808</td>\n",
       "      <td>51.165</td>\n",
       "      <td>19.338</td>\n",
       "      <td>0.402</td>\n",
       "    </tr>\n",
       "    <tr>\n",
       "      <th>The Lasso</th>\n",
       "      <td>2617.301</td>\n",
       "      <td>51.160</td>\n",
       "      <td>19.333</td>\n",
       "      <td>0.402</td>\n",
       "    </tr>\n",
       "  </tbody>\n",
       "</table>\n",
       "</div>"
      ],
      "text/plain": [
       "                              MSE    RMSE     MAE  R-squared\n",
       "Linear Regression        2614.695  51.134  19.457      0.402\n",
       "kNN                      2442.189  49.419  16.560      0.442\n",
       "Random Forest Regressor  2407.924  49.071  16.602      0.450\n",
       "Ridge Regression         2617.808  51.165  19.338      0.402\n",
       "The Lasso                2617.301  51.160  19.333      0.402"
      ]
     },
     "execution_count": 107,
     "metadata": {},
     "output_type": "execute_result"
    }
   ],
   "source": [
    "res = pd.DataFrame(index=['Linear Regression','kNN','Random Forest Regressor', 'Ridge Regression', 'The Lasso'])\n",
    "res['MSE'] = mse_list\n",
    "res['RMSE'] = rmse_list\n",
    "res['MAE'] = mae_list\n",
    "res['R-squared'] = r2_list\n",
    "res"
   ]
  },
  {
   "cell_type": "markdown",
   "id": "59d0dde6",
   "metadata": {},
   "source": [
    "**As we see from above R-squared error, Random Forest Regressor performs better than any other model with R² score = 0.45.**\n",
    "\n",
    "* Forward Stepwise Selection - Number of Features: 10\n",
    "\n",
    "**Tuned hyperparameters for different models:**\n",
    "\n",
    "* Linear Regression - {'n_features_to_select: 10'}\n",
    "* kNN - {'n_neighbors': 45}\n",
    "* Random Forest - {'max_depth': 5, 'max_features': 7, 'n_estimators': 200}\n",
    "\n",
    "\n",
    "\n",
    "* Ridge Regression - alpha: 266.8349615603151\n",
    "* The Lasso - alpha: 0.015269"
   ]
  },
  {
   "cell_type": "code",
   "execution_count": null,
   "id": "feabb858",
   "metadata": {},
   "outputs": [],
   "source": []
  }
 ],
 "metadata": {
  "kernelspec": {
   "display_name": "Python 3",
   "language": "python",
   "name": "python3"
  },
  "language_info": {
   "codemirror_mode": {
    "name": "ipython",
    "version": 3
   },
   "file_extension": ".py",
   "mimetype": "text/x-python",
   "name": "python",
   "nbconvert_exporter": "python",
   "pygments_lexer": "ipython3",
   "version": "3.8.8"
  }
 },
 "nbformat": 4,
 "nbformat_minor": 5
}
